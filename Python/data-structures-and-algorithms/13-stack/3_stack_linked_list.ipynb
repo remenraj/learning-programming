{
 "cells": [
  {
   "cell_type": "markdown",
   "metadata": {},
   "source": [
    "# Stack using Linked List"
   ]
  },
  {
   "cell_type": "markdown",
   "metadata": {},
   "source": [
    "### Classes"
   ]
  },
  {
   "cell_type": "code",
   "execution_count": 77,
   "metadata": {},
   "outputs": [],
   "source": [
    "class Node:\n",
    "    \"\"\" Node Class\"\"\"\n",
    "    def __init__(self, value=None) -> None:\n",
    "        self.value = value\n",
    "        self.next = None"
   ]
  },
  {
   "cell_type": "code",
   "execution_count": 78,
   "metadata": {},
   "outputs": [],
   "source": [
    "class LinkedList:\n",
    "    def __init__(self) -> None:\n",
    "        self.head = None\n",
    "        \n",
    "    def __iter__(self):\n",
    "        \"\"\"Iterate over the linked list to print the values\"\"\"\n",
    "        current_node = self.head\n",
    "        while current_node:\n",
    "            yield current_node\n",
    "            current_node = current_node.next"
   ]
  },
  {
   "cell_type": "code",
   "execution_count": 79,
   "metadata": {},
   "outputs": [],
   "source": [
    "class Stack:\n",
    "    def __init__(self):\n",
    "        self.linked_list = LinkedList()\n",
    "        \n",
    "    def is_empty(self):\n",
    "        \"\"\"Returns True if the stack is empty.\"\"\"\n",
    "        if self.linked_list.head is None:\n",
    "            return True\n",
    "        else:\n",
    "            return False\n",
    "    \n",
    "    def __str__(self) -> str:\n",
    "        \"\"\" Return a string representation of the stack \"\"\"\n",
    "        if self.is_empty():\n",
    "            return \"The stack is empty\"\n",
    "        else:\n",
    "            values = [str(x.value) for x in self.linked_list]\n",
    "            return \"\\n\".join(values)\n",
    "        \n",
    "    def push(self, value):\n",
    "        \"\"\"Adds a new node with the given value to the top of the stack.\"\"\"\n",
    "        # create a new node\n",
    "        node = Node(value)\n",
    "        \n",
    "        # set the next attribute of the new node to the current head\n",
    "        node.next = self.linked_list.head   # if the stack is empty, the head is None\n",
    "        self.linked_list.head = node    # set the head to the new node\n",
    "        \n",
    "        # # if the stack is empty, set the head to the new node\n",
    "        # if self.is_empty():\n",
    "        #     self.linked_list.head = node\n",
    "        # # otherwise, set the next attribute of the new node to the current head\n",
    "        # else:\n",
    "        #     node.next = self.linked_list.head   # set the next attribute of the new node to the current head\n",
    "        #     self.linked_list.head = node    # set the head to the new node\n",
    "        \n",
    "    def pop(self):\n",
    "        \"\"\"Removes the top node from the stack and returns its value.\"\"\"\n",
    "        if self.is_empty():\n",
    "            return \"The stack is empty\"\n",
    "        else:\n",
    "            # get the value of the head\n",
    "            node_value = self.linked_list.head.value\n",
    "            # set the head to the next node\n",
    "            self.linked_list.head = self.linked_list.head.next\n",
    "            return node_value\n",
    "        \n",
    "    def peek(self):\n",
    "        \"\"\"Returns the value of the top node in the stack.\"\"\"\n",
    "        if self.is_empty():\n",
    "            return \"The stack is empty\"\n",
    "        else:\n",
    "            return self.linked_list.head.value\n",
    "        \n",
    "    def delete(self) -> str:\n",
    "        \"\"\"Deletes the entire stack\"\"\"\n",
    "        self.linked_list.head = None\n",
    "        return \"The stack is deleted\""
   ]
  },
  {
   "cell_type": "markdown",
   "metadata": {},
   "source": [
    "### Stack Operations"
   ]
  },
  {
   "cell_type": "code",
   "execution_count": 80,
   "metadata": {},
   "outputs": [],
   "source": [
    "custom_stack = Stack()"
   ]
  },
  {
   "cell_type": "code",
   "execution_count": 81,
   "metadata": {},
   "outputs": [
    {
     "data": {
      "text/plain": [
       "True"
      ]
     },
     "execution_count": 81,
     "metadata": {},
     "output_type": "execute_result"
    }
   ],
   "source": [
    "custom_stack.is_empty()"
   ]
  },
  {
   "cell_type": "code",
   "execution_count": 82,
   "metadata": {},
   "outputs": [
    {
     "name": "stdout",
     "output_type": "stream",
     "text": [
      "3\n",
      "2\n",
      "1\n"
     ]
    }
   ],
   "source": [
    "# add nodes to the stack\n",
    "# time complexity: O(1)\n",
    "# space complexity: amortized O(n)\n",
    "custom_stack.push(value=1)\n",
    "custom_stack.push(value=2)\n",
    "custom_stack.push(value=3)\n",
    "print(custom_stack)"
   ]
  },
  {
   "cell_type": "code",
   "execution_count": 83,
   "metadata": {},
   "outputs": [
    {
     "data": {
      "text/plain": [
       "3"
      ]
     },
     "execution_count": 83,
     "metadata": {},
     "output_type": "execute_result"
    }
   ],
   "source": [
    "# pop(): remove the top node from the stack\n",
    "# time complexity: O(1)\n",
    "# space complexity: O(1)\n",
    "custom_stack.pop()"
   ]
  },
  {
   "cell_type": "code",
   "execution_count": 84,
   "metadata": {},
   "outputs": [
    {
     "name": "stdout",
     "output_type": "stream",
     "text": [
      "2\n",
      "1\n"
     ]
    }
   ],
   "source": [
    "print(custom_stack)"
   ]
  },
  {
   "cell_type": "code",
   "execution_count": 85,
   "metadata": {},
   "outputs": [
    {
     "data": {
      "text/plain": [
       "2"
      ]
     },
     "execution_count": 85,
     "metadata": {},
     "output_type": "execute_result"
    }
   ],
   "source": [
    "# peek(): return the value of the top node in the stack\n",
    "# time complexity: O(1)\n",
    "# space complexity: O(1)\n",
    "custom_stack.peek()"
   ]
  },
  {
   "cell_type": "code",
   "execution_count": 86,
   "metadata": {},
   "outputs": [
    {
     "data": {
      "text/plain": [
       "'The stack is deleted'"
      ]
     },
     "execution_count": 86,
     "metadata": {},
     "output_type": "execute_result"
    }
   ],
   "source": [
    "# delete(): delete the entire stack\n",
    "# time complexity: O(1)\n",
    "# space complexity: O(1)\n",
    "custom_stack.delete()"
   ]
  },
  {
   "cell_type": "code",
   "execution_count": 87,
   "metadata": {},
   "outputs": [
    {
     "name": "stdout",
     "output_type": "stream",
     "text": [
      "The stack is empty\n"
     ]
    }
   ],
   "source": [
    "print(custom_stack)"
   ]
  }
 ],
 "metadata": {
  "interpreter": {
   "hash": "1e9e906ed1bcd16395bf324e1dc9b0d6266e30bb5a7212e78bbc15ab48b3a7f0"
  },
  "kernelspec": {
   "display_name": "Python 3.10.1 ('venv': venv)",
   "language": "python",
   "name": "python3"
  },
  "language_info": {
   "codemirror_mode": {
    "name": "ipython",
    "version": 3
   },
   "file_extension": ".py",
   "mimetype": "text/x-python",
   "name": "python",
   "nbconvert_exporter": "python",
   "pygments_lexer": "ipython3",
   "version": "3.10.1"
  },
  "orig_nbformat": 4
 },
 "nbformat": 4,
 "nbformat_minor": 2
}
