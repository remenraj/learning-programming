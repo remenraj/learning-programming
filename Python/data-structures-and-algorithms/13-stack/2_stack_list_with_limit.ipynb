{
 "cells": [
  {
   "cell_type": "markdown",
   "metadata": {},
   "source": [
    "# Stack(list) with limit"
   ]
  },
  {
   "cell_type": "code",
   "execution_count": 23,
   "metadata": {},
   "outputs": [],
   "source": [
    "# class Stack\n",
    "class Stack:\n",
    "    def __init__(self, max_stack_size: int) -> None:\n",
    "        \"\"\" Initialize an empty stack \"\"\"\n",
    "        self.list = []\n",
    "        self.max_stack_size = max_stack_size\n",
    "    \n",
    "    def __str__(self) -> str:\n",
    "        \"\"\" Return a string representation of the stack \"\"\"\n",
    "        if self.is_empty():\n",
    "            return \"The stack is empty\"\n",
    "        else:\n",
    "            values = self.list.copy()\n",
    "            values.reverse()\n",
    "            values = [str(x) for x in values]\n",
    "            return \"\\n\".join(values)\n",
    "    \n",
    "    def is_empty(self) -> bool:\n",
    "        \"\"\" Return True if the stack is empty \"\"\"\n",
    "        if self.list == []:\n",
    "            return True\n",
    "        else:\n",
    "            return False\n",
    "        \n",
    "    def is_full(self) -> bool:\n",
    "        \"\"\" Return True if the stack is full \"\"\"\n",
    "        if len(self.list) == self.max_stack_size:\n",
    "            return True\n",
    "        else:\n",
    "            return False\n",
    "            \n",
    "    def push(self, value) -> str:\n",
    "        \"\"\" Push a value onto the stack \"\"\"\n",
    "        if self.is_full():\n",
    "            return \"Stack is full\"\n",
    "        else:\n",
    "            self.list.append(value)\n",
    "            return f\"Successfully added {value} to the stack\"\n",
    "    \n",
    "    def pop(self):\n",
    "        \"\"\" Remove and return the last item \"\"\"\n",
    "        if self.is_empty():\n",
    "            return \"The stack is empty\"\n",
    "        else:\n",
    "            return self.list.pop()\n",
    "    \n",
    "    def peek(self):\n",
    "        \"\"\" Return the last item without removing it \"\"\"\n",
    "        if self.is_empty():\n",
    "            return \"The stack is empty\"\n",
    "        else:\n",
    "            return self.list[-1]\n",
    "        \n",
    "    def delete(self):\n",
    "        \"\"\" Remove all items from the stack \"\"\"\n",
    "        self.list = []\n",
    "        return \"The stack is now empty\""
   ]
  },
  {
   "cell_type": "code",
   "execution_count": 24,
   "metadata": {},
   "outputs": [],
   "source": [
    "# stack object\n",
    "custom_stack = Stack(max_stack_size=4)"
   ]
  },
  {
   "cell_type": "code",
   "execution_count": 25,
   "metadata": {},
   "outputs": [
    {
     "data": {
      "text/plain": [
       "True"
      ]
     },
     "execution_count": 25,
     "metadata": {},
     "output_type": "execute_result"
    }
   ],
   "source": [
    "custom_stack.is_empty()"
   ]
  },
  {
   "cell_type": "code",
   "execution_count": 26,
   "metadata": {},
   "outputs": [
    {
     "data": {
      "text/plain": [
       "False"
      ]
     },
     "execution_count": 26,
     "metadata": {},
     "output_type": "execute_result"
    }
   ],
   "source": [
    "custom_stack.is_full()"
   ]
  },
  {
   "cell_type": "code",
   "execution_count": 27,
   "metadata": {},
   "outputs": [
    {
     "name": "stdout",
     "output_type": "stream",
     "text": [
      "3\n",
      "2\n",
      "1\n"
     ]
    }
   ],
   "source": [
    "custom_stack.push(1)    # add 1 to the stack\n",
    "custom_stack.push(2)\n",
    "custom_stack.push(3)\n",
    "print(custom_stack)"
   ]
  },
  {
   "cell_type": "code",
   "execution_count": 28,
   "metadata": {},
   "outputs": [
    {
     "data": {
      "text/plain": [
       "False"
      ]
     },
     "execution_count": 28,
     "metadata": {},
     "output_type": "execute_result"
    }
   ],
   "source": [
    "# time complexity: O(1)\n",
    "# space complexity: O(1)\n",
    "custom_stack.is_full()"
   ]
  },
  {
   "cell_type": "code",
   "execution_count": 29,
   "metadata": {},
   "outputs": [
    {
     "data": {
      "text/plain": [
       "'Stack is full'"
      ]
     },
     "execution_count": 29,
     "metadata": {},
     "output_type": "execute_result"
    }
   ],
   "source": [
    "custom_stack.push(4)\n",
    "custom_stack.push(5)"
   ]
  },
  {
   "cell_type": "code",
   "execution_count": 30,
   "metadata": {},
   "outputs": [
    {
     "name": "stdout",
     "output_type": "stream",
     "text": [
      "4\n",
      "3\n",
      "2\n",
      "1\n"
     ]
    }
   ],
   "source": [
    "print(custom_stack)"
   ]
  }
 ],
 "metadata": {
  "interpreter": {
   "hash": "1e9e906ed1bcd16395bf324e1dc9b0d6266e30bb5a7212e78bbc15ab48b3a7f0"
  },
  "kernelspec": {
   "display_name": "Python 3.10.1 ('venv': venv)",
   "language": "python",
   "name": "python3"
  },
  "language_info": {
   "codemirror_mode": {
    "name": "ipython",
    "version": 3
   },
   "file_extension": ".py",
   "mimetype": "text/x-python",
   "name": "python",
   "nbconvert_exporter": "python",
   "pygments_lexer": "ipython3",
   "version": "3.10.1"
  },
  "orig_nbformat": 4
 },
 "nbformat": 4,
 "nbformat_minor": 2
}
