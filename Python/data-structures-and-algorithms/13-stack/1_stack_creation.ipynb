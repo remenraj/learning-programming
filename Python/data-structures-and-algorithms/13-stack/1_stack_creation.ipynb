{
 "cells": [
  {
   "cell_type": "markdown",
   "metadata": {},
   "source": [
    "# Stack\n",
    "\n",
    "Stack is a data structure that stores items in a LIFO (Last In, First Out) manner.\n",
    "E.g.: A stack of plates, back button in browser."
   ]
  },
  {
   "cell_type": "markdown",
   "metadata": {
    "vscode": {
     "languageId": "plaintext"
    }
   },
   "source": [
    "### Creation of stack\n",
    "\n",
    "1. Stack using List:\n",
    "   * Easy to implement\n",
    "   * Speed problem when it grows\n",
    "\n",
    "2. Stack using Linked List:\n",
    "   * Implementation is not easy\n",
    "   * Fast performance\n"
   ]
  },
  {
   "cell_type": "markdown",
   "metadata": {},
   "source": [
    "### When to use Stack:\n",
    "* When you need to perform LIFO operations\n",
    "* The chance of data corruption is minimum"
   ]
  },
  {
   "cell_type": "markdown",
   "metadata": {},
   "source": [
    "### When to avoid Stack:\n",
    "* Random access is not possible, it is very time consuming when using stack"
   ]
  },
  {
   "cell_type": "code",
   "execution_count": 76,
   "metadata": {},
   "outputs": [],
   "source": [
    "# class Stack\n",
    "class Stack:\n",
    "    def __init__(self) -> None:\n",
    "        \"\"\" Initialize an empty stack \"\"\"\n",
    "        self.list = []\n",
    "    \n",
    "    def __str__(self) -> str:\n",
    "        \"\"\" Return a string representation of the stack \"\"\"\n",
    "        if self.is_empty():\n",
    "            return \"The stack is empty\"\n",
    "        else:\n",
    "            values = self.list.copy()\n",
    "            values.reverse()\n",
    "            values = [str(x) for x in values]\n",
    "            return \"\\n\".join(values)\n",
    "    \n",
    "    def is_empty(self) -> bool:\n",
    "        \"\"\" Return True if the stack is empty \"\"\"\n",
    "        if self.list == []:\n",
    "            return True\n",
    "        else:\n",
    "            return False\n",
    "        \n",
    "    def push(self, value) -> str:\n",
    "        \"\"\" Push a value onto the stack \"\"\"\n",
    "        self.list.append(value)\n",
    "        return f\"Successfully added {value} to the stack\"\n",
    "    \n",
    "    def pop(self):\n",
    "        \"\"\" Remove and return the last item \"\"\"\n",
    "        if self.is_empty():\n",
    "            return \"The stack is empty\"\n",
    "        else:\n",
    "            return self.list.pop()\n",
    "    \n",
    "    def peek(self):\n",
    "        \"\"\" Return the last item without removing it \"\"\"\n",
    "        if self.is_empty():\n",
    "            return \"The stack is empty\"\n",
    "        else:\n",
    "            return self.list[-1]\n",
    "        \n",
    "    def delete(self) -> str:\n",
    "        \"\"\" Remove all items from the stack \"\"\"\n",
    "        self.list = []\n",
    "        return \"The stack is now empty\""
   ]
  },
  {
   "cell_type": "code",
   "execution_count": 77,
   "metadata": {},
   "outputs": [],
   "source": [
    "# For stack creation:\n",
    "# time complexity: O(1)\n",
    "# space complexity: O(1)\n",
    "custom_stack = Stack()"
   ]
  },
  {
   "cell_type": "markdown",
   "metadata": {},
   "source": [
    "#### Operations on Stack using List(push, pop, peek, is_empty, Delete)"
   ]
  },
  {
   "cell_type": "code",
   "execution_count": 78,
   "metadata": {},
   "outputs": [
    {
     "name": "stdout",
     "output_type": "stream",
     "text": [
      "True\n"
     ]
    }
   ],
   "source": [
    "# is_empty: checks if the stack is empty\n",
    "# time complexity: O(1)\n",
    "# space complexity: O(1)\n",
    "custom_stack = Stack()\n",
    "print(custom_stack.is_empty())"
   ]
  },
  {
   "cell_type": "code",
   "execution_count": 79,
   "metadata": {},
   "outputs": [
    {
     "name": "stdout",
     "output_type": "stream",
     "text": [
      "3\n",
      "2\n",
      "1\n"
     ]
    }
   ],
   "source": [
    "# push: adds a value to the stack\n",
    "# time complexity: amortized O(n)\n",
    "# space complexity: O(1)\n",
    "custom_stack.push(1)    # add 1 to the stack\n",
    "custom_stack.push(2)\n",
    "custom_stack.push(3)\n",
    "print(custom_stack)\n"
   ]
  },
  {
   "cell_type": "code",
   "execution_count": 80,
   "metadata": {},
   "outputs": [
    {
     "data": {
      "text/plain": [
       "3"
      ]
     },
     "execution_count": 80,
     "metadata": {},
     "output_type": "execute_result"
    }
   ],
   "source": [
    "# pop: removes a value from the stack\n",
    "# time complexity: O(1)\n",
    "# space complexity: O(1)\n",
    "custom_stack.pop()"
   ]
  },
  {
   "cell_type": "code",
   "execution_count": 81,
   "metadata": {},
   "outputs": [
    {
     "name": "stdout",
     "output_type": "stream",
     "text": [
      "2\n",
      "1\n"
     ]
    }
   ],
   "source": [
    "print(custom_stack)"
   ]
  },
  {
   "cell_type": "code",
   "execution_count": 82,
   "metadata": {},
   "outputs": [
    {
     "data": {
      "text/plain": [
       "2"
      ]
     },
     "execution_count": 82,
     "metadata": {},
     "output_type": "execute_result"
    }
   ],
   "source": [
    "# peek: returns the last value in the stack\n",
    "# time complexity: O(1)\n",
    "# space complexity: O(1)\n",
    "custom_stack.peek()"
   ]
  },
  {
   "cell_type": "code",
   "execution_count": 83,
   "metadata": {},
   "outputs": [
    {
     "name": "stdout",
     "output_type": "stream",
     "text": [
      "2\n",
      "1\n"
     ]
    }
   ],
   "source": [
    "print(custom_stack)"
   ]
  },
  {
   "cell_type": "code",
   "execution_count": 84,
   "metadata": {},
   "outputs": [
    {
     "data": {
      "text/plain": [
       "'The stack is now empty'"
      ]
     },
     "execution_count": 84,
     "metadata": {},
     "output_type": "execute_result"
    }
   ],
   "source": [
    "# delete: deletes the stack\n",
    "# time complexity: O(1)\n",
    "# space complexity: O(1)\n",
    "custom_stack.delete()"
   ]
  },
  {
   "cell_type": "code",
   "execution_count": 85,
   "metadata": {},
   "outputs": [
    {
     "data": {
      "text/plain": [
       "True"
      ]
     },
     "execution_count": 85,
     "metadata": {},
     "output_type": "execute_result"
    }
   ],
   "source": [
    "custom_stack.is_empty()"
   ]
  },
  {
   "cell_type": "code",
   "execution_count": 86,
   "metadata": {},
   "outputs": [
    {
     "name": "stdout",
     "output_type": "stream",
     "text": [
      "The stack is empty\n"
     ]
    }
   ],
   "source": [
    "print(custom_stack)"
   ]
  }
 ],
 "metadata": {
  "interpreter": {
   "hash": "1e9e906ed1bcd16395bf324e1dc9b0d6266e30bb5a7212e78bbc15ab48b3a7f0"
  },
  "kernelspec": {
   "display_name": "Python 3.10.1 ('venv': venv)",
   "language": "python",
   "name": "python3"
  },
  "language_info": {
   "codemirror_mode": {
    "name": "ipython",
    "version": 3
   },
   "file_extension": ".py",
   "mimetype": "text/x-python",
   "name": "python",
   "nbconvert_exporter": "python",
   "pygments_lexer": "ipython3",
   "version": "3.10.1"
  },
  "orig_nbformat": 4
 },
 "nbformat": 4,
 "nbformat_minor": 2
}
