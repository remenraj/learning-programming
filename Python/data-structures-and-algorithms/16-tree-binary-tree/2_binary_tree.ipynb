{
 "cells": [
  {
   "cell_type": "markdown",
   "metadata": {},
   "source": [
    "# Binary Tree\n",
    "\n",
    "* Binary trees are the data structures in which each node has at most two children, often referred to as the left and right children.\n",
    "* Binary tree is a family of data structure (BST, Heap tree, AVL, Red Black trees, Syntax tree)\n",
    "\n",
    "**Why Binary Tree?**\n",
    "* Binary trees are a prerequisite for mode advanced trees like BST, AVL, Red Black Tree\n",
    "* Huffman coding problem (Huffman coding is a lossless data compression algorithm), heap priority problem and expression parsing problems can be solved efficiently using binary trees.\n",
    "\n",
    "**Types of binary tree**:\n",
    "* **Full binary tree**: each node has 0 or 2 children, none has 1 children\n",
    "* **Perfect binary tree**: All non leaf nodes have 2 children and they are at the same depth\n",
    "* **Complete binary tree**: binary tree in which all the levels are completely filled except possibly the lowest one, which is filled from the left. A complete binary tree is just like a full binary tree, but with two major differences. All the leaf elements must lean towards the left.\n",
    "* **Balanced binary tree**: All leaf nodes are located at same depth.\n",
    "\n",
    "**Creation of binary tree**:\n",
    "* Linked list\n",
    "* Python list(array)"
   ]
  },
  {
   "cell_type": "code",
   "execution_count": null,
   "metadata": {},
   "outputs": [],
   "source": []
  }
 ],
 "metadata": {
  "language_info": {
   "name": "python"
  },
  "orig_nbformat": 4
 },
 "nbformat": 4,
 "nbformat_minor": 2
}
