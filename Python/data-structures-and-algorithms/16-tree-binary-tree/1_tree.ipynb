{
 "cells": [
  {
   "cell_type": "markdown",
   "metadata": {},
   "source": [
    "**Tree**: A tree is a nonlinear data structure with hierarchical relationships between its elements without having any cycle, it is basically reversed from a real life tree.\n",
    "\n",
    "**Properties**:\n",
    "* Represent hierarchical data\n",
    "* Each node has two components: data and a link to its sub category\n",
    "* Base category and sub categories under it\n",
    "\n",
    "**Why a Tree**:\n",
    "* Quicker and easier access to the data\n",
    "* Store hierarchical data, like folder structure, organization structure, XML/HTML data.\n",
    "* There are many different types of data structures which perfroms better in various situations:\n",
    "  * Binary Search Tree, AVL, Red Black Tree, Trie\n",
    "\n",
    "**Tree Terminology**:\n",
    "* Root: top node without parent\n",
    "* Edge: a link between parent and children\n",
    "* Leaf: a node which does not have children\n",
    "* Sibling: children of the same parent\n",
    "* Ancestor: parent, grandparent, great grandparent of a node\n",
    "* Depth of Node: a length of the path from root to node\n",
    "* Height of node: a length of the path from the node to the deepest node\n",
    "* Depth of tree: depth of root node\n",
    "* Height of tree: height of root node"
   ]
  },
  {
   "cell_type": "markdown",
   "metadata": {},
   "source": [
    "### Basic Tree "
   ]
  },
  {
   "cell_type": "code",
   "execution_count": 9,
   "metadata": {},
   "outputs": [],
   "source": [
    "class TreeNode:\n",
    "    def __init__(self, data, children=[]) -> None:\n",
    "        \"\"\"Initializes data and children\"\"\"\n",
    "        self.data = data    # data stored in the current node\n",
    "        self.children = children    # address of child nodes\n",
    "    \n",
    "    def __str__(self, level=0):\n",
    "        \"\"\"To printing out the node values as well as the tree\"\"\"\n",
    "        ret = \"  \" * level + str(self.data) + \"\\n\"\n",
    "        for child in self.children:\n",
    "            ret += child.__str__(level + 1)\n",
    "        return ret\n",
    "    \n",
    "    def add_child(self, TreeNode):\n",
    "        \"\"\"Add a child node\"\"\"\n",
    "        self.children.append(TreeNode)"
   ]
  },
  {
   "cell_type": "code",
   "execution_count": 10,
   "metadata": {},
   "outputs": [],
   "source": [
    "# cafe menu tree, root node\n",
    "tree = TreeNode(data=\"drinks\", children=[])\n",
    "\n",
    "# child nodes\n",
    "cold = TreeNode(data=\"cold\", children=[])\n",
    "hot = TreeNode(data=\"hot\", children=[])"
   ]
  },
  {
   "cell_type": "code",
   "execution_count": 11,
   "metadata": {},
   "outputs": [],
   "source": [
    "# adding child nodes to the root node\n",
    "tree.add_child(cold)\n",
    "tree.add_child(hot)"
   ]
  },
  {
   "cell_type": "code",
   "execution_count": 12,
   "metadata": {},
   "outputs": [
    {
     "name": "stdout",
     "output_type": "stream",
     "text": [
      "drinks\n",
      "  cold\n",
      "  hot\n",
      "\n"
     ]
    }
   ],
   "source": [
    "print(tree)"
   ]
  },
  {
   "cell_type": "code",
   "execution_count": 13,
   "metadata": {},
   "outputs": [
    {
     "name": "stdout",
     "output_type": "stream",
     "text": [
      "drinks\n",
      "  cold\n",
      "    cola\n",
      "    fanta\n",
      "  hot\n",
      "    tea\n",
      "    coffee\n",
      "\n"
     ]
    }
   ],
   "source": [
    "# add child nodes to cold and hot drinks\n",
    "# hot\n",
    "tea = TreeNode(data=\"tea\", children=[])\n",
    "coffee = TreeNode(data=\"coffee\", children=[])\n",
    "# cold\n",
    "cola = TreeNode(data=\"cola\", children=[])\n",
    "fanta = TreeNode(data=\"fanta\", children=[])\n",
    "\n",
    "# add child nodes\n",
    "hot.add_child(tea)\n",
    "hot.add_child(coffee)\n",
    "cold.add_child(cola)\n",
    "cold.add_child(fanta)\n",
    "\n",
    "print(tree)"
   ]
  }
 ],
 "metadata": {
  "kernelspec": {
   "display_name": "Python 3.10.1 64-bit",
   "language": "python",
   "name": "python3"
  },
  "language_info": {
   "codemirror_mode": {
    "name": "ipython",
    "version": 3
   },
   "file_extension": ".py",
   "mimetype": "text/x-python",
   "name": "python",
   "nbconvert_exporter": "python",
   "pygments_lexer": "ipython3",
   "version": "3.10.1"
  },
  "orig_nbformat": 4,
  "vscode": {
   "interpreter": {
    "hash": "16f0ca5a144da0fa24584e85f0d7b9bc7286b7e46a6b4623bf81aa0eaafb0da1"
   }
  }
 },
 "nbformat": 4,
 "nbformat_minor": 2
}
