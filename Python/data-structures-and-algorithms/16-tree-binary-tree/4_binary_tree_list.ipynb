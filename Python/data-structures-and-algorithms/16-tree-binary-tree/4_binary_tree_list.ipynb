{
 "cells": [
  {
   "cell_type": "markdown",
   "metadata": {},
   "source": [
    "# Binary Tree using Python \n",
    "\n",
    "* First index(index=0) is avoided to make the mathematical calculations easier\n",
    "* x is the index of the root node\n",
    "* Left child = cell[2x] \n",
    "* Right child = cell[2x + 1]\n",
    "* Order: _, N1, N1L, N1R, N2, N2L, N2R, .."
   ]
  },
  {
   "cell_type": "markdown",
   "metadata": {},
   "source": [
    "### Binary Tree Class"
   ]
  },
  {
   "cell_type": "code",
   "execution_count": 82,
   "metadata": {},
   "outputs": [],
   "source": [
    "class BinaryTree():\n",
    "    def __init__(self, size):\n",
    "        \"\"\"Initializes a binary tree with fixed size\"\"\"\n",
    "        self.custom_list = [None] * size\n",
    "        self.last_used_index = 0    # index of the last node in the binary tree\n",
    "        self.max_size = size    # maximum size of the binary tree\n",
    "        \n",
    "    def insert_node(self, value) -> str:\n",
    "        \"\"\"Inserts a new node into the binary tree\"\"\"\n",
    "        # check if the binary tree is full\n",
    "        if self.max_size == self.last_used_index + 1:\n",
    "            return \"The Binary Tree is full\"\n",
    "        \n",
    "        # add the value to the list\n",
    "        self.custom_list[self.last_used_index + 1] = value\n",
    "        \n",
    "        # update the last used index\n",
    "        self.last_used_index += 1\n",
    "\n",
    "        return \"The value has been successfully inserted\"\n",
    "    \n",
    "    def search_node(self, node_value):\n",
    "        \"\"\"Search for a node in the binary tree\"\"\"\n",
    "        # looping through the list\n",
    "        for i in range(len(self.custom_list)):\n",
    "            if self.custom_list[i] == node_value:\n",
    "                return \"Node is found\"\n",
    "        \n",
    "        return \"Node not found\"\n",
    "    \n",
    "    def pre_order_traversal(self, index=1):\n",
    "        \"\"\"Recursive function to traverse the binary tree using pre order traversal\"\"\"\n",
    "        # index is used to start from 1 for easy mathematical purposes, and for recursion\n",
    "        # check if the index is more than the index of the last node\n",
    "        if index > self.last_used_index:\n",
    "            return\n",
    "        # print root node\n",
    "        print(self.custom_list[index])\n",
    "        self.pre_order_traversal(index=index*2) # left subtree\n",
    "        self.pre_order_traversal(index=index*2 + 1) # right subtree\n",
    "        \n",
    "    def in_order_traversal(self, index=1):\n",
    "        \"\"\"Recursive function to traverse the binary tree using in order traversal\"\"\"\n",
    "        # check if the index is more than the index of the last node\n",
    "        if index > self.last_used_index:\n",
    "            return\n",
    "        self.in_order_traversal(index=index*2) # left subtree\n",
    "        # print root node\n",
    "        print(self.custom_list[index])\n",
    "        self.in_order_traversal(index=index*2 + 1) # right subtree\n",
    "        \n",
    "    def post_order_traversal(self, index=1):\n",
    "        \"\"\"Recursive function to traverse the binary tree using pre order traversal\"\"\"\n",
    "        # check if the index is more than the index of the last node\n",
    "        if index > self.last_used_index:\n",
    "            return\n",
    "        self.post_order_traversal(index=index*2) # left subtree\n",
    "        self.post_order_traversal(index=index*2 + 1) # right subtree\n",
    "        # print root node\n",
    "        print(self.custom_list[index])\n",
    "        \n",
    "    def level_order_traversal(self, index=1):\n",
    "        \"\"\"Traverse through the binary tree using level order traversal\"\"\"\n",
    "        for i in range(index, self.last_used_index + 1):\n",
    "            print(self.custom_list[i])\n",
    "            \n",
    "    def delete_node(self, node_value):\n",
    "        \"\"\"Deletes a node from the binary tree and replaces it with the last node\"\"\"\n",
    "        # check if the tree is empty\n",
    "        if self.last_used_index == 0:\n",
    "            return \"There is no node to delete\"\n",
    "        \n",
    "        # loop through the tree to find the node to be deleted\n",
    "        for i in range(1, self.last_used_index + 1):\n",
    "            # check the current node is the node to be deleted\n",
    "            if self.custom_list[i] == node_value:\n",
    "                # change the value of current node as the deepest node\n",
    "                self.custom_list[i] = self.custom_list[self.last_used_index]\n",
    "                # delete the deepest node\n",
    "                self.custom_list[self.last_used_index] = None\n",
    "                # update the last used index\n",
    "                self.last_used_index -= 1\n",
    "\n",
    "                return \"The node has been successfully deleted\"\n",
    "        \n",
    "        return \"Node deletion failed\"\n",
    "    \n",
    "    def delete_bt(self):\n",
    "        \"\"\"Delete entire binary tree\"\"\"\n",
    "        self.custom_list = None\n",
    "        return \"The Binary Tree has been successfully deleted\""
   ]
  },
  {
   "cell_type": "markdown",
   "metadata": {},
   "source": [
    "### Operations in Binary Tree"
   ]
  },
  {
   "cell_type": "markdown",
   "metadata": {},
   "source": [
    "#### Creation of Binary Tree\n",
    "\n",
    "Time complexity: O(1)\n",
    "Space complexity: O(n)"
   ]
  },
  {
   "cell_type": "code",
   "execution_count": 83,
   "metadata": {},
   "outputs": [],
   "source": [
    "new_bt = BinaryTree(size=8)"
   ]
  },
  {
   "cell_type": "markdown",
   "metadata": {},
   "source": [
    "#### Insertion\n",
    "Insertion of a node in Binary Tree\n",
    "\n",
    "Time complexity: O(1)\n",
    "\n",
    "Space complexity: O(1)\n",
    "\n",
    "* Make sure the binary tree is not full and Look for the first vacant place and Look for the first vacant place."
   ]
  },
  {
   "cell_type": "code",
   "execution_count": 84,
   "metadata": {},
   "outputs": [
    {
     "data": {
      "text/plain": [
       "'The value has been successfully inserted'"
      ]
     },
     "execution_count": 84,
     "metadata": {},
     "output_type": "execute_result"
    }
   ],
   "source": [
    "new_bt.insert_node(value=\"drinks\")"
   ]
  },
  {
   "cell_type": "code",
   "execution_count": 85,
   "metadata": {},
   "outputs": [
    {
     "data": {
      "text/plain": [
       "'The value has been successfully inserted'"
      ]
     },
     "execution_count": 85,
     "metadata": {},
     "output_type": "execute_result"
    }
   ],
   "source": [
    "new_bt.insert_node(value=\"hot\")\n",
    "new_bt.insert_node(value=\"cold\")"
   ]
  },
  {
   "cell_type": "code",
   "execution_count": 86,
   "metadata": {},
   "outputs": [
    {
     "data": {
      "text/plain": [
       "'The value has been successfully inserted'"
      ]
     },
     "execution_count": 86,
     "metadata": {},
     "output_type": "execute_result"
    }
   ],
   "source": [
    "new_bt.insert_node(value=\"tea\")\n",
    "new_bt.insert_node(value=\"coffee\")"
   ]
  },
  {
   "cell_type": "markdown",
   "metadata": {},
   "source": [
    "#### Search\n",
    "\n",
    "Searching for a node in Binary Tree using level order traversal\n",
    "\n",
    "Time complexity: O(n)\n",
    "\n",
    "Space complexity: O(1)"
   ]
  },
  {
   "cell_type": "code",
   "execution_count": 87,
   "metadata": {},
   "outputs": [
    {
     "data": {
      "text/plain": [
       "'Node is found'"
      ]
     },
     "execution_count": 87,
     "metadata": {},
     "output_type": "execute_result"
    }
   ],
   "source": [
    "new_bt.search_node(node_value=\"tea\")"
   ]
  },
  {
   "cell_type": "code",
   "execution_count": 88,
   "metadata": {},
   "outputs": [
    {
     "data": {
      "text/plain": [
       "'Node is found'"
      ]
     },
     "execution_count": 88,
     "metadata": {},
     "output_type": "execute_result"
    }
   ],
   "source": [
    "new_bt.search_node(node_value=\"cold\")"
   ]
  },
  {
   "cell_type": "markdown",
   "metadata": {},
   "source": [
    "#### Traversal of Binary Tree"
   ]
  },
  {
   "cell_type": "markdown",
   "metadata": {},
   "source": [
    "##### Pre Order Traversal of Binary Tree\n",
    "\n",
    "Order: Root Node -> Left Subtree -> Right Subtree\n",
    "\n",
    "Time complexity: O(n)\n",
    "\n",
    "Space complexity: O(n)"
   ]
  },
  {
   "cell_type": "code",
   "execution_count": 89,
   "metadata": {},
   "outputs": [
    {
     "name": "stdout",
     "output_type": "stream",
     "text": [
      "drinks\n",
      "hot\n",
      "tea\n",
      "coffee\n",
      "cold\n"
     ]
    }
   ],
   "source": [
    "new_bt.pre_order_traversal()"
   ]
  },
  {
   "cell_type": "markdown",
   "metadata": {},
   "source": [
    "##### In Order Traversal of Binary Tree\n",
    "\n",
    "Order: Left Subtree -> Root Node -> Right Subtree\n",
    "\n",
    "Time complexity: O(n)\n",
    "\n",
    "Space complexity: O(n)"
   ]
  },
  {
   "cell_type": "code",
   "execution_count": 90,
   "metadata": {},
   "outputs": [
    {
     "name": "stdout",
     "output_type": "stream",
     "text": [
      "tea\n",
      "hot\n",
      "coffee\n",
      "drinks\n",
      "cold\n"
     ]
    }
   ],
   "source": [
    "new_bt.in_order_traversal()"
   ]
  },
  {
   "cell_type": "markdown",
   "metadata": {},
   "source": [
    "##### Post Order Traversal\n",
    "\n",
    "Order: Left subtree -> Right subtree -> Root node\n",
    "\n",
    "Time complexity: O(n)\n",
    "Space complexity: O(n)"
   ]
  },
  {
   "cell_type": "code",
   "execution_count": 91,
   "metadata": {},
   "outputs": [
    {
     "name": "stdout",
     "output_type": "stream",
     "text": [
      "tea\n",
      "coffee\n",
      "hot\n",
      "cold\n",
      "drinks\n"
     ]
    }
   ],
   "source": [
    "new_bt.post_order_traversal()"
   ]
  },
  {
   "cell_type": "markdown",
   "metadata": {},
   "source": [
    "##### Level Order Traversal of Binary Tree\n",
    "\n",
    "Order: Level 1 (Root Node) -> Level 2 -> Level 3 -> ...\n",
    "\n",
    "Time complexity: O(n)\n",
    "Space complexity: O(n)"
   ]
  },
  {
   "cell_type": "code",
   "execution_count": 92,
   "metadata": {},
   "outputs": [
    {
     "name": "stdout",
     "output_type": "stream",
     "text": [
      "drinks\n",
      "hot\n",
      "cold\n",
      "tea\n",
      "coffee\n"
     ]
    }
   ],
   "source": [
    "new_bt.level_order_traversal()"
   ]
  },
  {
   "cell_type": "markdown",
   "metadata": {},
   "source": [
    "#### Delete a node from Binary Tree\n",
    "\n",
    "Time complexity: O(n)\n",
    "\n",
    "Space complexity: O(1)"
   ]
  },
  {
   "cell_type": "code",
   "execution_count": 93,
   "metadata": {},
   "outputs": [
    {
     "data": {
      "text/plain": [
       "'The node has been successfully deleted'"
      ]
     },
     "execution_count": 93,
     "metadata": {},
     "output_type": "execute_result"
    }
   ],
   "source": [
    "new_bt.delete_node(node_value=\"tea\")"
   ]
  },
  {
   "cell_type": "code",
   "execution_count": 94,
   "metadata": {},
   "outputs": [
    {
     "name": "stdout",
     "output_type": "stream",
     "text": [
      "drinks\n",
      "hot\n",
      "cold\n",
      "coffee\n"
     ]
    }
   ],
   "source": [
    "new_bt.level_order_traversal()"
   ]
  },
  {
   "cell_type": "code",
   "execution_count": 95,
   "metadata": {},
   "outputs": [
    {
     "data": {
      "text/plain": [
       "'Node deletion failed'"
      ]
     },
     "execution_count": 95,
     "metadata": {},
     "output_type": "execute_result"
    }
   ],
   "source": [
    "new_bt.delete_node(node_value=\"cola\")"
   ]
  },
  {
   "cell_type": "markdown",
   "metadata": {},
   "source": [
    "#### Delete Entire Binary Tree\n",
    "\n",
    "Time Complexity: O(1)\n",
    "\n",
    "Space Complexity: O(1)"
   ]
  },
  {
   "cell_type": "code",
   "execution_count": 96,
   "metadata": {},
   "outputs": [
    {
     "data": {
      "text/plain": [
       "'The Binary Tree has been successfully deleted'"
      ]
     },
     "execution_count": 96,
     "metadata": {},
     "output_type": "execute_result"
    }
   ],
   "source": [
    "new_bt.delete_bt()"
   ]
  },
  {
   "cell_type": "code",
   "execution_count": 97,
   "metadata": {},
   "outputs": [
    {
     "data": {
      "text/plain": [
       "<bound method BinaryTree.level_order_traversal of <__main__.BinaryTree object at 0x000001FEC3E104C0>>"
      ]
     },
     "execution_count": 97,
     "metadata": {},
     "output_type": "execute_result"
    }
   ],
   "source": [
    "new_bt.level_order_traversal"
   ]
  }
 ],
 "metadata": {
  "kernelspec": {
   "display_name": "Python 3.10.1 64-bit",
   "language": "python",
   "name": "python3"
  },
  "language_info": {
   "codemirror_mode": {
    "name": "ipython",
    "version": 3
   },
   "file_extension": ".py",
   "mimetype": "text/x-python",
   "name": "python",
   "nbconvert_exporter": "python",
   "pygments_lexer": "ipython3",
   "version": "3.10.1"
  },
  "orig_nbformat": 4,
  "vscode": {
   "interpreter": {
    "hash": "16f0ca5a144da0fa24584e85f0d7b9bc7286b7e46a6b4623bf81aa0eaafb0da1"
   }
  }
 },
 "nbformat": 4,
 "nbformat_minor": 2
}
