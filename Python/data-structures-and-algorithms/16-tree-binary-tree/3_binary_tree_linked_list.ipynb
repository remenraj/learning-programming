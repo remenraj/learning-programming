{
 "cells": [
  {
   "cell_type": "markdown",
   "metadata": {},
   "source": [
    "### Operations on binary tree:\n",
    "* Creation of tree\n",
    "* Insertion of a node\n",
    "* Deletion of a node\n",
    "* Search for a value\n",
    "* Traverse all nodes\n",
    "* Deletion of tree"
   ]
  },
  {
   "cell_type": "markdown",
   "metadata": {},
   "source": [
    "#### Class"
   ]
  },
  {
   "cell_type": "markdown",
   "metadata": {},
   "source": [
    "##### Tree Node Class"
   ]
  },
  {
   "cell_type": "code",
   "execution_count": 35,
   "metadata": {},
   "outputs": [],
   "source": [
    "class TreeNode:\n",
    "    def __init__(self, data) -> None:\n",
    "        self.data = data    # node data\n",
    "        # left and right child nodes\n",
    "        self.left_child = None\n",
    "        self.right_child = None\n",
    "        \n",
    "    def __str__(self, level=0):\n",
    "        \"\"\"To printing out the node values as well as the tree\"\"\"\n",
    "        ret = \"    \" * level + str(self.data) + \"\\n\"\n",
    "        \n",
    "        # this assumes left child is added first\n",
    "        if self.left_child is None and self.right_child is None:\n",
    "            return ret\n",
    "        else:\n",
    "            children = []\n",
    "            if self.left_child is not None:\n",
    "                children.append(self.left_child)\n",
    "            if self.right_child is not None:\n",
    "                children.append(self.right_child)\n",
    "                \n",
    "            for child in children:\n",
    "                ret += child.__str__(level + 1)\n",
    "                \n",
    "            return ret"
   ]
  },
  {
   "cell_type": "markdown",
   "metadata": {},
   "source": [
    "##### Classes for Queue in Level Order Traversal of Binary Tree"
   ]
  },
  {
   "cell_type": "code",
   "execution_count": 36,
   "metadata": {},
   "outputs": [],
   "source": [
    "class Node:\n",
    "    \"\"\" Node Class\"\"\"\n",
    "    def __init__(self, value=None) -> None:\n",
    "        self.value = value\n",
    "        self.next = None\n",
    "        \n",
    "    def __str__(self):\n",
    "        return str(self.value)"
   ]
  },
  {
   "cell_type": "code",
   "execution_count": 37,
   "metadata": {},
   "outputs": [],
   "source": [
    "class LinkedList:\n",
    "    \"\"\"Linked List Class\"\"\"\n",
    "    def __init__(self) -> None:\n",
    "        self.head = None\n",
    "        self.tail = None\n",
    "        \n",
    "    def __iter__(self):\n",
    "        \"\"\"Iterate over the linked list to print the values\"\"\"\n",
    "        current_node = self.head\n",
    "        while current_node:\n",
    "            yield current_node\n",
    "            current_node = current_node.next"
   ]
  },
  {
   "cell_type": "code",
   "execution_count": 38,
   "metadata": {},
   "outputs": [],
   "source": [
    "class Queue:\n",
    "    \"\"\"Queue class\"\"\"\n",
    "    def __init__(self) -> None:\n",
    "        \"\"\"Initializes the queue\"\"\"\n",
    "        self.linked_list = LinkedList()\n",
    "        \n",
    "    def __str__(self) -> str:\n",
    "        \"\"\"Print the queue\"\"\"\n",
    "        if self.linked_list.head is None:\n",
    "            return \"Queue is empty\"\n",
    "        else:\n",
    "            values = [str(x.value) for x in self.linked_list]\n",
    "            return \" \".join(values)\n",
    "    \n",
    "    def is_empty(self) -> bool:\n",
    "        \"\"\"Check if the queue is empty\"\"\"\n",
    "        return self.linked_list.head is None\n",
    "\n",
    "    def enqueue(self, value) -> None:\n",
    "        \"\"\"Add a value to the queue\"\"\"\n",
    "        # create a new node\n",
    "        new_node = Node(value=value)\n",
    "\n",
    "        # check if the queue is empty\n",
    "        if self.linked_list.head is None:\n",
    "            # then add it as the first node\n",
    "            self.linked_list.head = new_node\n",
    "            self.linked_list.tail = new_node\n",
    "            \n",
    "        # otherwise, add the node to the end of the queue\n",
    "        else:\n",
    "            self.linked_list.tail.next = new_node\n",
    "            self.linked_list.tail = new_node\n",
    "            \n",
    "    def dequeue(self):\n",
    "        \"\"\"Remove the first value from the queue\"\"\"\n",
    "        # check if the queue is empty\n",
    "        if self.is_empty():\n",
    "            return \"Queue is empty\"\n",
    "        # otherwise, remove the first value from the queue\n",
    "        else:\n",
    "            # for returning the value\n",
    "            temp_node = self.linked_list.head\n",
    "            \n",
    "            # check if there is only one node in the queue, then set head and tail to None\n",
    "            if self.linked_list.head == self.linked_list.tail:\n",
    "                self.linked_list.head = None\n",
    "                self.linked_list.tail = None\n",
    "                \n",
    "            # otherwise, set the head to the next node\n",
    "            else:\n",
    "                self.linked_list.head = self.linked_list.head.next\n",
    "            \n",
    "            return temp_node.value\n",
    "        \n",
    "    def peek(self):\n",
    "        \"\"\"Return the first value in the queue\"\"\" \n",
    "        if self.is_empty():\n",
    "            return \"Queue is empty\"\n",
    "        else:\n",
    "            return self.linked_list.head.value\n",
    "        \n",
    "    def delete(self):\n",
    "        \"\"\"Delete the entire queue\"\"\"\n",
    "        self.linked_list.head = None\n",
    "        self.linked_list.tail = None"
   ]
  },
  {
   "cell_type": "markdown",
   "metadata": {},
   "source": [
    "### Operations"
   ]
  },
  {
   "cell_type": "markdown",
   "metadata": {},
   "source": [
    "#### Creation"
   ]
  },
  {
   "cell_type": "code",
   "execution_count": 39,
   "metadata": {},
   "outputs": [],
   "source": [
    "# Creation of binary tree\n",
    "# time complexity: O(1)\n",
    "# space complexity: O(1)\n",
    "new_bt = TreeNode(data=\"drinks\")"
   ]
  },
  {
   "cell_type": "code",
   "execution_count": 40,
   "metadata": {},
   "outputs": [],
   "source": [
    "left_child = TreeNode(\"hot\")\n",
    "right_child = TreeNode(\"cold\")"
   ]
  },
  {
   "cell_type": "code",
   "execution_count": 41,
   "metadata": {},
   "outputs": [],
   "source": [
    "# add the child to the root\n",
    "new_bt.left_child = left_child\n",
    "new_bt.right_child = right_child"
   ]
  },
  {
   "cell_type": "code",
   "execution_count": 42,
   "metadata": {},
   "outputs": [],
   "source": [
    "# add tea and coffee under hot\n",
    "tea = TreeNode(\"tea\")\n",
    "coffee = TreeNode(\"coffee\")\n",
    "\n",
    "left_child.left_child = tea\n",
    "left_child.right_child = coffee"
   ]
  },
  {
   "cell_type": "markdown",
   "metadata": {},
   "source": [
    "#### Traversal"
   ]
  },
  {
   "cell_type": "markdown",
   "metadata": {},
   "source": [
    "**Traversal of Binary Tree**\n",
    "\n",
    "* Depth first search\n",
    "  * Pre-order traversal: Root node -> Left subtree -> Right subtree\n",
    "  * In-order traversal: Left subtree -> Root node -> Right subtree\n",
    "  * Post order traversal: Left subtree -> Right subtree -> Root node\n",
    "\n",
    "\n",
    "* Breadth first search\n",
    "  * Level order traversal: Level 1(Root Node) -> Level 2 -> Level 3 -> ..."
   ]
  },
  {
   "cell_type": "markdown",
   "metadata": {},
   "source": [
    "##### Pre-order traversal"
   ]
  },
  {
   "cell_type": "code",
   "execution_count": 43,
   "metadata": {},
   "outputs": [],
   "source": [
    "def pre_order_traversal(root_node):\n",
    "    \"\"\"Recursive function to traverse through the binary tree in the order: Root node -> Left subtree -> Right subtree\"\"\"\n",
    "    # check root node is None, return if so\n",
    "    if root_node is None:   # if not root_node:\n",
    "        # if the current node has no child, left_child and right_child will be None\n",
    "        return\n",
    "    \n",
    "    print(root_node.data)\n",
    "    \n",
    "    # all the left node is traversed first\n",
    "    pre_order_traversal(root_node.left_child)    # time complexity: O(n/2)\n",
    "    # after traversing through all the left node, right node is called\n",
    "    pre_order_traversal(root_node.right_child)   # time complexity: O(n/2)"
   ]
  },
  {
   "cell_type": "code",
   "execution_count": 44,
   "metadata": {},
   "outputs": [
    {
     "name": "stdout",
     "output_type": "stream",
     "text": [
      "drinks\n",
      "hot\n",
      "tea\n",
      "coffee\n",
      "cold\n"
     ]
    }
   ],
   "source": [
    "# time complexity: O(n)\n",
    "# space complexity: O(n)\n",
    "pre_order_traversal(new_bt)"
   ]
  },
  {
   "cell_type": "markdown",
   "metadata": {},
   "source": [
    "##### In-order Traversal of Binary Tree"
   ]
  },
  {
   "cell_type": "code",
   "execution_count": 45,
   "metadata": {},
   "outputs": [],
   "source": [
    "def in_order_traversal(root_node):\n",
    "    \"\"\"Recursive function to traverse the binary tree in the order: Left subtree -> Root node -> Right subtree\"\"\"\n",
    "    if not root_node:\n",
    "        # if the root node has no children, return (to avoid executing the rest of the code) \n",
    "        return\n",
    "    \n",
    "    in_order_traversal(root_node.left_child)    # time complexity: O(n/2)\n",
    "    \n",
    "    print(root_node.data)\n",
    "    \n",
    "    in_order_traversal(root_node.right_child)   # time complexity: O(n/2)"
   ]
  },
  {
   "cell_type": "code",
   "execution_count": 46,
   "metadata": {},
   "outputs": [
    {
     "name": "stdout",
     "output_type": "stream",
     "text": [
      "tea\n",
      "hot\n",
      "coffee\n",
      "drinks\n",
      "cold\n"
     ]
    }
   ],
   "source": [
    "# time complexity: O(n)\n",
    "# space complexity: O(n)\n",
    "in_order_traversal(new_bt)"
   ]
  },
  {
   "cell_type": "markdown",
   "metadata": {},
   "source": [
    "##### Post-order Traversal of Binary Tree"
   ]
  },
  {
   "cell_type": "code",
   "execution_count": 47,
   "metadata": {},
   "outputs": [],
   "source": [
    "def post_order_traversal(root_node):\n",
    "    \"\"\"Recursive function to traverse the binary tree in the order: Left subtree -> Right subtree -> Root node\"\"\"\n",
    "    if root_node is None:\n",
    "        return\n",
    "    \n",
    "    post_order_traversal(root_node.left_child)\n",
    "    post_order_traversal(root_node.right_child)\n",
    "    print(root_node.data)"
   ]
  },
  {
   "cell_type": "code",
   "execution_count": 48,
   "metadata": {},
   "outputs": [
    {
     "name": "stdout",
     "output_type": "stream",
     "text": [
      "tea\n",
      "coffee\n",
      "hot\n",
      "cold\n",
      "drinks\n"
     ]
    }
   ],
   "source": [
    "# time complexity: O(n)\n",
    "# space complexity: O(n)\n",
    "post_order_traversal(new_bt)"
   ]
  },
  {
   "cell_type": "markdown",
   "metadata": {},
   "source": [
    "##### Level Order Traversal of Binary Tree"
   ]
  },
  {
   "cell_type": "code",
   "execution_count": 49,
   "metadata": {},
   "outputs": [],
   "source": [
    "def level_order_traversal(root_node):\n",
    "    \"\"\"Recursive fun\"\"\"\n",
    "    if not root_node:\n",
    "        return\n",
    "    else:\n",
    "        # create queue\n",
    "        custom_queue = Queue()\n",
    "        \n",
    "        # add root node to the queue\n",
    "        custom_queue.enqueue(value=root_node)\n",
    "        \n",
    "        # looping through the custom_queue till its empty\n",
    "        while not custom_queue.is_empty():\n",
    "            # remove the root_node from the queue, which is the first node\n",
    "            root = custom_queue.dequeue()   # dequeue returns the first element in the queue\n",
    "            print(root.data)  # print the rootnode data\n",
    "            \n",
    "            # check if the root node has children and add it to the custom_queue\n",
    "            if root.left_child is not None:\n",
    "                custom_queue.enqueue(root.left_child)\n",
    "            if root.right_child is not None:\n",
    "                custom_queue.enqueue(root.right_child)    \n",
    "            "
   ]
  },
  {
   "cell_type": "code",
   "execution_count": 50,
   "metadata": {},
   "outputs": [
    {
     "name": "stdout",
     "output_type": "stream",
     "text": [
      "drinks\n",
      "hot\n",
      "cold\n",
      "tea\n",
      "coffee\n"
     ]
    }
   ],
   "source": [
    "# time complexity: O(n)\n",
    "# space complexity: O(n), because of the use of queues\n",
    "level_order_traversal(new_bt)"
   ]
  },
  {
   "cell_type": "markdown",
   "metadata": {},
   "source": [
    "#### Search\n",
    "\n",
    "**Search for a node in Binary Tree using Level Order Traversal Method**\n"
   ]
  },
  {
   "cell_type": "code",
   "execution_count": 51,
   "metadata": {},
   "outputs": [],
   "source": [
    "def search_bt(root_node, node_value):\n",
    "    \"\"\"Search the binary tree for a particular node (node_value) using level order traversal method\"\"\"\n",
    "    if not root_node:\n",
    "        return \"The binary tree is empty\"\n",
    "    \n",
    "    custom_queue = Queue()  # create a queue\n",
    "    custom_queue.enqueue(value=root_node)   # add the root node to the queue\n",
    "    \n",
    "    # loop through levels to find the node_value\n",
    "    while not custom_queue.is_empty():\n",
    "        root = custom_queue.dequeue()\n",
    "        \n",
    "        if root.data == node_value:\n",
    "            return \"Found the node\"\n",
    "        \n",
    "        # add the child nodes of the root node to the queue, if any\n",
    "        if root.left_child is not None:\n",
    "            custom_queue.enqueue(root.left_child)\n",
    "        if root.right_child is not None:\n",
    "            custom_queue.enqueue(root.right_child)\n",
    "        \n",
    "    return \"Node not found\""
   ]
  },
  {
   "cell_type": "code",
   "execution_count": 52,
   "metadata": {},
   "outputs": [
    {
     "data": {
      "text/plain": [
       "'Found the node'"
      ]
     },
     "execution_count": 52,
     "metadata": {},
     "output_type": "execute_result"
    }
   ],
   "source": [
    "# time complexity: O(n)\n",
    "# space complexity: O(n)\n",
    "search_bt(root_node=new_bt, node_value=\"tea\")"
   ]
  },
  {
   "cell_type": "code",
   "execution_count": 53,
   "metadata": {},
   "outputs": [
    {
     "data": {
      "text/plain": [
       "'Node not found'"
      ]
     },
     "execution_count": 53,
     "metadata": {},
     "output_type": "execute_result"
    }
   ],
   "source": [
    "search_bt(root_node=new_bt, node_value=\"milk\")"
   ]
  },
  {
   "cell_type": "markdown",
   "metadata": {},
   "source": [
    "#### Insert a node in Binary Tree\n",
    "\n",
    "* A root node is blank\n",
    "* The tree exists and we have to look for a first vacant place"
   ]
  },
  {
   "cell_type": "code",
   "execution_count": 54,
   "metadata": {},
   "outputs": [],
   "source": [
    "def insert_node_bt(root_node, new_node):\n",
    "    \"\"\"Inserts a node into the binary tree\"\"\"\n",
    "    if not root_node:\n",
    "        root_node = new_node\n",
    "    else:\n",
    "        # add new node using level order traversal\n",
    "        custom_queue = Queue()\n",
    "        custom_queue.enqueue(root_node)\n",
    "\n",
    "        while not custom_queue.is_empty():\n",
    "            root = custom_queue.dequeue()\n",
    "            \n",
    "            # check if the root node has children, and add it to the queue if so\n",
    "            # otherwise add it to the tree\n",
    "            if root.left_child is not None:\n",
    "                custom_queue.enqueue(root.left_child)\n",
    "            else:\n",
    "                root.left_child = new_node\n",
    "                return \"Successfully inserted\"\n",
    "            if root.right_child is not None:\n",
    "                custom_queue.enqueue(root_node.right_child)    \n",
    "            else:\n",
    "                root.left_child = new_node\n",
    "                return \"Successfully inserted\""
   ]
  },
  {
   "cell_type": "code",
   "execution_count": 55,
   "metadata": {},
   "outputs": [
    {
     "name": "stdout",
     "output_type": "stream",
     "text": [
      "drinks\n",
      "    hot\n",
      "        tea\n",
      "        coffee\n",
      "    cold\n",
      "\n"
     ]
    }
   ],
   "source": [
    "print(new_bt)"
   ]
  },
  {
   "cell_type": "code",
   "execution_count": 56,
   "metadata": {},
   "outputs": [
    {
     "data": {
      "text/plain": [
       "'Successfully inserted'"
      ]
     },
     "execution_count": 56,
     "metadata": {},
     "output_type": "execute_result"
    }
   ],
   "source": [
    "# add node to coffee\n",
    "cola = TreeNode(data=\"cola\")\n",
    "# time complexity: O(n)\n",
    "# space complexity: O(n)\n",
    "insert_node_bt(root_node=new_bt, new_node=cola)"
   ]
  },
  {
   "cell_type": "code",
   "execution_count": 57,
   "metadata": {},
   "outputs": [
    {
     "name": "stdout",
     "output_type": "stream",
     "text": [
      "drinks\n",
      "    hot\n",
      "        tea\n",
      "        coffee\n",
      "    cold\n",
      "        cola\n",
      "\n"
     ]
    }
   ],
   "source": [
    "print(new_bt)"
   ]
  },
  {
   "cell_type": "markdown",
   "metadata": {},
   "source": [
    "#### Delete a node from Binary Tree\n",
    "\n",
    "Time complexity: O(n)\n",
    "Space complexity: O(n)"
   ]
  },
  {
   "cell_type": "markdown",
   "metadata": {},
   "source": [
    "##### Get Deepest Node"
   ]
  },
  {
   "cell_type": "code",
   "execution_count": 58,
   "metadata": {},
   "outputs": [],
   "source": [
    "def get_deepest_node(root_node: TreeNode):\n",
    "    \"\"\"Using level order traversal to get the deepest node\"\"\"\n",
    "    # create queue\n",
    "    custom_queue = Queue()\n",
    "    \n",
    "    # add root node to the queue\n",
    "    custom_queue.enqueue(value=root_node)\n",
    "    \n",
    "    # looping through the custom_queue till its empty\n",
    "    while not custom_queue.is_empty():\n",
    "        # remove the root_node from the queue, which is the first node\n",
    "        root = custom_queue.dequeue()   # dequeue returns the first element in the queue\n",
    "        \n",
    "        # check if the root node has children and add it to the custom_queue\n",
    "        if root.left_child is not None:\n",
    "            custom_queue.enqueue(root.left_child)\n",
    "        if root.right_child is not None:\n",
    "            custom_queue.enqueue(root.right_child)   \n",
    "            \n",
    "    deepest_node = root # deepest node\n",
    "    return deepest_node"
   ]
  },
  {
   "cell_type": "code",
   "execution_count": 59,
   "metadata": {},
   "outputs": [
    {
     "name": "stdout",
     "output_type": "stream",
     "text": [
      "drinks\n",
      "    hot\n",
      "        tea\n",
      "        coffee\n",
      "    cold\n",
      "        cola\n",
      "\n"
     ]
    }
   ],
   "source": [
    "print(new_bt)"
   ]
  },
  {
   "cell_type": "code",
   "execution_count": 60,
   "metadata": {},
   "outputs": [
    {
     "name": "stdout",
     "output_type": "stream",
     "text": [
      "cola\n",
      "\n"
     ]
    }
   ],
   "source": [
    "print(get_deepest_node(root_node=new_bt))"
   ]
  },
  {
   "cell_type": "markdown",
   "metadata": {},
   "source": [
    "##### Delete Deepest Node"
   ]
  },
  {
   "cell_type": "code",
   "execution_count": 61,
   "metadata": {},
   "outputs": [],
   "source": [
    "def delete_deepest_node(root_node):\n",
    "    \"\"\"\"Deletes the deepest node of a binary tree\"\"\"\n",
    "    if not root_node:\n",
    "        return\n",
    "    else:\n",
    "        # get the deepest node\n",
    "        deepest_node = get_deepest_node(root_node)\n",
    "        \n",
    "        # traversing through the tree to find the parent of the deepest node and set its child to None\n",
    "        # using level order traversal\n",
    "        \n",
    "        custom_queue = Queue()\n",
    "        custom_queue.enqueue(value=root_node)\n",
    "        \n",
    "        while not custom_queue.is_empty():\n",
    "            root = custom_queue.dequeue()\n",
    "            \n",
    "            # check if the current node is the deepest node\n",
    "            if root is deepest_node:\n",
    "                root = None\n",
    "                return f\"Successfully deleted deepest node: {deepest_node}\"\n",
    "            \n",
    "            # check if the current node's child is deepest node\n",
    "            # check if right child is the deepest node\n",
    "            if root.right_child is deepest_node:\n",
    "                root.right_child = None\n",
    "                return f\"Successfully deleted deepest node: {deepest_node}\"\n",
    "            # otherwise add it to the queue\n",
    "            else:\n",
    "                custom_queue.enqueue(value=root.right_child)\n",
    "                \n",
    "            # check if the left child is the deepest node\n",
    "            if root.left_child is deepest_node:\n",
    "                root.left_child = None\n",
    "                return f\"Successfully deleted deepest node: {deepest_node}\"\n",
    "            # otherwise add it to the queue\n",
    "            else:\n",
    "                custom_queue.enqueue(value=root.left_child)"
   ]
  },
  {
   "cell_type": "code",
   "execution_count": 62,
   "metadata": {},
   "outputs": [
    {
     "name": "stdout",
     "output_type": "stream",
     "text": [
      "drinks\n",
      "    hot\n",
      "        tea\n",
      "        coffee\n",
      "    cold\n",
      "        cola\n",
      "\n"
     ]
    }
   ],
   "source": [
    "print(new_bt)"
   ]
  },
  {
   "cell_type": "code",
   "execution_count": 63,
   "metadata": {},
   "outputs": [
    {
     "data": {
      "text/plain": [
       "'Successfully deleted deepest node: cola\\n'"
      ]
     },
     "execution_count": 63,
     "metadata": {},
     "output_type": "execute_result"
    }
   ],
   "source": [
    "delete_deepest_node(root_node=new_bt)"
   ]
  },
  {
   "cell_type": "code",
   "execution_count": 64,
   "metadata": {},
   "outputs": [
    {
     "name": "stdout",
     "output_type": "stream",
     "text": [
      "drinks\n",
      "    hot\n",
      "        tea\n",
      "        coffee\n",
      "    cold\n",
      "\n"
     ]
    }
   ],
   "source": [
    "print(new_bt)"
   ]
  },
  {
   "cell_type": "markdown",
   "metadata": {},
   "source": [
    "##### Delete Node from Binary Tree"
   ]
  },
  {
   "cell_type": "code",
   "execution_count": 65,
   "metadata": {},
   "outputs": [],
   "source": [
    "def delete_node_bt(root_node, node_value):\n",
    "    \"\"\"Deletes a node from binary tree using level order traversal and replaces it with the deepest node\"\"\"\n",
    "    if not root_node:\n",
    "        return\n",
    "    else:\n",
    "        # get the deepest node of the root_node\n",
    "        deepest_node = get_deepest_node(root_node)\n",
    "        \n",
    "        # traversing through the tree to find the node to be deleted using level order traversal\n",
    "        custom_queue = Queue()\n",
    "        custom_queue.enqueue(value=root_node)\n",
    "        \n",
    "        while not custom_queue.is_empty():\n",
    "            root = custom_queue.dequeue()\n",
    "            \n",
    "            # check if the current node is the node to be deleted\n",
    "            if root.data is node_value:\n",
    "                # update the current node with the deepest node \n",
    "                root.data = deepest_node.data\n",
    "                # delete the deepest node\n",
    "                delete_deepest_node(root_node) \n",
    "                return \"The node has been successfully deleted\"\n",
    "            \n",
    "            # add the children nodes to the queue if any\n",
    "            if root.left_child is not None:\n",
    "                custom_queue.enqueue(root.left_child)\n",
    "            if root.right_child is not None:\n",
    "                custom_queue.enqueue(root.right_child)\n",
    "        \n",
    "        return \"Failed to delete\""
   ]
  },
  {
   "cell_type": "code",
   "execution_count": 66,
   "metadata": {},
   "outputs": [
    {
     "name": "stdout",
     "output_type": "stream",
     "text": [
      "drinks\n",
      "    hot\n",
      "        tea\n",
      "        coffee\n",
      "    cold\n",
      "\n"
     ]
    }
   ],
   "source": [
    "print(new_bt)"
   ]
  },
  {
   "cell_type": "code",
   "execution_count": 67,
   "metadata": {},
   "outputs": [
    {
     "data": {
      "text/plain": [
       "'The node has been successfully deleted'"
      ]
     },
     "execution_count": 67,
     "metadata": {},
     "output_type": "execute_result"
    }
   ],
   "source": [
    "# delete tea\n",
    "delete_node_bt(root_node=new_bt, node_value=\"tea\")"
   ]
  },
  {
   "cell_type": "code",
   "execution_count": 68,
   "metadata": {},
   "outputs": [
    {
     "name": "stdout",
     "output_type": "stream",
     "text": [
      "drinks\n",
      "    hot\n",
      "        coffee\n",
      "    cold\n",
      "\n"
     ]
    }
   ],
   "source": [
    "print(new_bt)"
   ]
  },
  {
   "cell_type": "code",
   "execution_count": 71,
   "metadata": {},
   "outputs": [
    {
     "name": "stdout",
     "output_type": "stream",
     "text": [
      "coffee\n",
      "    hot\n",
      "\n"
     ]
    }
   ],
   "source": [
    "# delete drinks\n",
    "delete_node_bt(root_node=new_bt, node_value=\"drinks\")\n",
    "print(new_bt)"
   ]
  },
  {
   "cell_type": "markdown",
   "metadata": {},
   "source": [
    "#### Delete Entire Binary Tree"
   ]
  },
  {
   "cell_type": "code",
   "execution_count": 72,
   "metadata": {},
   "outputs": [],
   "source": [
    "def delete_bt(root_node):\n",
    "    \"\"\"Deletes entire binary tree\"\"\"\n",
    "    if not root_node:\n",
    "        return\n",
    "    else:\n",
    "        root_node.data = None\n",
    "        root_node.left_child = None\n",
    "        root_node.right_child = None\n",
    "        return \"Successfully deleted the binary tree\""
   ]
  },
  {
   "cell_type": "code",
   "execution_count": 73,
   "metadata": {},
   "outputs": [
    {
     "name": "stdout",
     "output_type": "stream",
     "text": [
      "coffee\n",
      "    hot\n",
      "\n"
     ]
    }
   ],
   "source": [
    "print(new_bt)"
   ]
  },
  {
   "cell_type": "code",
   "execution_count": 74,
   "metadata": {},
   "outputs": [
    {
     "data": {
      "text/plain": [
       "'Successfully deleted the binary tree'"
      ]
     },
     "execution_count": 74,
     "metadata": {},
     "output_type": "execute_result"
    }
   ],
   "source": [
    "delete_bt(new_bt)"
   ]
  },
  {
   "cell_type": "code",
   "execution_count": 75,
   "metadata": {},
   "outputs": [
    {
     "name": "stdout",
     "output_type": "stream",
     "text": [
      "None\n",
      "\n"
     ]
    }
   ],
   "source": [
    "print(new_bt)"
   ]
  },
  {
   "cell_type": "code",
   "execution_count": 76,
   "metadata": {},
   "outputs": [
    {
     "name": "stdout",
     "output_type": "stream",
     "text": [
      "None\n"
     ]
    }
   ],
   "source": [
    "level_order_traversal(root_node=new_bt)"
   ]
  }
 ],
 "metadata": {
  "kernelspec": {
   "display_name": "Python 3.10.1 ('venv': venv)",
   "language": "python",
   "name": "python3"
  },
  "language_info": {
   "codemirror_mode": {
    "name": "ipython",
    "version": 3
   },
   "file_extension": ".py",
   "mimetype": "text/x-python",
   "name": "python",
   "nbconvert_exporter": "python",
   "pygments_lexer": "ipython3",
   "version": "3.10.1"
  },
  "orig_nbformat": 4,
  "vscode": {
   "interpreter": {
    "hash": "1e9e906ed1bcd16395bf324e1dc9b0d6266e30bb5a7212e78bbc15ab48b3a7f0"
   }
  }
 },
 "nbformat": 4,
 "nbformat_minor": 2
}
