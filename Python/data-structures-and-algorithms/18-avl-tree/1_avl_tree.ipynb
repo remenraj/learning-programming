{
 "cells": [
  {
   "cell_type": "markdown",
   "metadata": {},
   "source": [
    "# AVL Tree\n",
    "\n",
    "An **AVL Tree (Adelson-Velskii and Landis also known as a height binary tree)** is a self-balancing Binary Search Tree (BST) where the difference between heights of left and right subtrees cannot be more than one for all nodes.\n",
    "\n",
    "If at any time heights of left and right subtrees differ by more than one, then rebalancing is done to restore AVL property, this process is called **rotation**.\n",
    "\n",
    "**Why do we need AVL Tree?:**\n",
    "AVL tree controls the height of the binary search tree by not letting it to be skewed. So that the time complexity for an avl tree will be O(logN).\n",
    "\n",
    "Common Operations on AVL Trees\n",
    "* Creation of AVL Trees\n",
    "* Search for a node in AVL Trees\n",
    "* Traverse all nodes in AVL Trees\n",
    "* Insert a node in AVL Trees\n",
    "* Delete a node from AVL Trees\n",
    "* Delete the entire AVL Trees"
   ]
  },
  {
   "cell_type": "markdown",
   "metadata": {},
   "source": [
    "## AVL Tree Node class"
   ]
  },
  {
   "cell_type": "code",
   "execution_count": 99,
   "metadata": {},
   "outputs": [],
   "source": [
    "class AVLNode:\n",
    "    def __init__(self, data):\n",
    "        self.data = data\n",
    "        self.left_child = None\n",
    "        self.right_child = None\n",
    "        self.height = 1"
   ]
  },
  {
   "cell_type": "markdown",
   "metadata": {},
   "source": [
    "## Classes for Queue in Level Order Traversal of AVL Tree"
   ]
  },
  {
   "cell_type": "markdown",
   "metadata": {},
   "source": [
    "##### Node class for queue"
   ]
  },
  {
   "cell_type": "code",
   "execution_count": 100,
   "metadata": {},
   "outputs": [],
   "source": [
    "class Node:\n",
    "    \"\"\" Node Class\"\"\"\n",
    "    def __init__(self, value=None) -> None:\n",
    "        self.value = value\n",
    "        self.next = None\n",
    "        \n",
    "    def __str__(self):\n",
    "        return str(self.value)"
   ]
  },
  {
   "cell_type": "markdown",
   "metadata": {},
   "source": [
    "##### Linked List class"
   ]
  },
  {
   "cell_type": "code",
   "execution_count": 101,
   "metadata": {},
   "outputs": [],
   "source": [
    "class LinkedList:\n",
    "    \"\"\"Linked List Class\"\"\"\n",
    "    def __init__(self) -> None:\n",
    "        self.head = None\n",
    "        self.tail = None\n",
    "        \n",
    "    def __iter__(self):\n",
    "        \"\"\"Iterate over the linked list to print the values\"\"\"\n",
    "        current_node = self.head\n",
    "        while current_node:\n",
    "            yield current_node\n",
    "            current_node = current_node.next"
   ]
  },
  {
   "cell_type": "markdown",
   "metadata": {},
   "source": [
    "##### Queue class"
   ]
  },
  {
   "cell_type": "code",
   "execution_count": 102,
   "metadata": {},
   "outputs": [],
   "source": [
    "class Queue:\n",
    "    \"\"\"Queue class\"\"\"\n",
    "    def __init__(self) -> None:\n",
    "        \"\"\"Initializes the queue\"\"\"\n",
    "        self.linked_list = LinkedList()\n",
    "        \n",
    "    def __str__(self) -> str:\n",
    "        \"\"\"Print the queue\"\"\"\n",
    "        if self.linked_list.head is None:\n",
    "            return \"Queue is empty\"\n",
    "        else:\n",
    "            values = [str(x.value) for x in self.linked_list]\n",
    "            return \" \".join(values)\n",
    "    \n",
    "    def is_empty(self) -> bool:\n",
    "        \"\"\"Check if the queue is empty\"\"\"\n",
    "        return self.linked_list.head is None\n",
    "\n",
    "    def enqueue(self, value) -> None:\n",
    "        \"\"\"Add a value to the queue\"\"\"\n",
    "        # create a new node\n",
    "        new_node = Node(value=value)\n",
    "\n",
    "        # check if the queue is empty\n",
    "        if self.linked_list.head is None:\n",
    "            # then add it as the first node\n",
    "            self.linked_list.head = new_node\n",
    "            self.linked_list.tail = new_node\n",
    "            \n",
    "        # otherwise, add the node to the end of the queue\n",
    "        else:\n",
    "            self.linked_list.tail.next = new_node\n",
    "            self.linked_list.tail = new_node\n",
    "            \n",
    "    def dequeue(self):\n",
    "        \"\"\"Remove the first value from the queue\"\"\"\n",
    "        # check if the queue is empty\n",
    "        if self.is_empty():\n",
    "            return \"Queue is empty\"\n",
    "        # otherwise, remove the first value from the queue\n",
    "        else:\n",
    "            # for returning the value\n",
    "            temp_node = self.linked_list.head\n",
    "            \n",
    "            # check if there is only one node in the queue, then set head and tail to None\n",
    "            if self.linked_list.head == self.linked_list.tail:\n",
    "                self.linked_list.head = None\n",
    "                self.linked_list.tail = None\n",
    "                \n",
    "            # otherwise, set the head to the next node\n",
    "            else:\n",
    "                self.linked_list.head = self.linked_list.head.next\n",
    "            \n",
    "            return temp_node.value\n",
    "        \n",
    "    def peek(self):\n",
    "        \"\"\"Return the first value in the queue\"\"\" \n",
    "        if self.is_empty():\n",
    "            return \"Queue is empty\"\n",
    "        else:\n",
    "            return self.linked_list.head.value\n",
    "        \n",
    "    def delete(self):\n",
    "        \"\"\"Delete the entire queue\"\"\"\n",
    "        self.linked_list.head = None\n",
    "        self.linked_list.tail = None"
   ]
  },
  {
   "cell_type": "markdown",
   "metadata": {},
   "source": [
    "## Operations"
   ]
  },
  {
   "cell_type": "markdown",
   "metadata": {},
   "source": [
    "### Creation\n",
    "\n",
    "Time complexity: O(1)\n",
    "\n",
    "Space complexity: O(1)"
   ]
  },
  {
   "cell_type": "code",
   "execution_count": 103,
   "metadata": {},
   "outputs": [],
   "source": [
    "new_AVL = AVLNode(data=10)"
   ]
  },
  {
   "cell_type": "markdown",
   "metadata": {},
   "source": [
    "### Traversal of AVL Tree\n",
    "\n",
    "* Depth first search\n",
    "  * Pre-order traversal: Root node -> Left subtree -> Right subtree\n",
    "  * In-order traversal: Left subtree -> Root node -> Right subtree\n",
    "  * Post order traversal: Left subtree -> Right subtree -> Root node\n",
    "\n",
    "\n",
    "* Breadth first search\n",
    "  * Level order traversal: Level 1(Root Node) -> Level 2 -> Level 3 -> ..."
   ]
  },
  {
   "cell_type": "markdown",
   "metadata": {},
   "source": [
    "##### Pre-order traversal\n",
    "\n",
    "Order: Root node -> Left subtree -> Right subtree\n",
    "\n",
    "Time complexity: O(n)\n",
    "\n",
    "Space complexity: O(1)"
   ]
  },
  {
   "cell_type": "code",
   "execution_count": 104,
   "metadata": {},
   "outputs": [],
   "source": [
    "def pre_order_traversal(root_node):\n",
    "    \"\"\"Recursive function to traverse through the AVL tree in the order: Root node -> Left subtree -> Right subtree\"\"\"\n",
    "    # check root node is None, return if so\n",
    "    if root_node is None:   # if not root_node:\n",
    "        # if the current node has no child, left_child and right_child will be None\n",
    "        return\n",
    "    \n",
    "    print(root_node.data)\n",
    "    \n",
    "    # all the left node is traversed first\n",
    "    pre_order_traversal(root_node.left_child)    # time complexity: O(n/2)\n",
    "    # after traversing through all the left node, right node is called\n",
    "    pre_order_traversal(root_node.right_child)   # time complexity: O(n/2)"
   ]
  },
  {
   "cell_type": "code",
   "execution_count": 105,
   "metadata": {},
   "outputs": [
    {
     "name": "stdout",
     "output_type": "stream",
     "text": [
      "10\n"
     ]
    }
   ],
   "source": [
    "pre_order_traversal(root_node=new_AVL)"
   ]
  },
  {
   "cell_type": "markdown",
   "metadata": {},
   "source": [
    "##### In-order Traversal of AVL Tree\n",
    "\n",
    "Order: Left subtree -> Root node -> Right subtree\n",
    "\n",
    "Time complexity: O(n)\n",
    "\n",
    "Space complexity: O(n)"
   ]
  },
  {
   "cell_type": "code",
   "execution_count": 106,
   "metadata": {},
   "outputs": [],
   "source": [
    "def in_order_traversal(root_node):\n",
    "    \"\"\"Recursive function to traverse the AVL tree in the order: Left subtree -> Root node -> Right subtree\"\"\"\n",
    "    if not root_node:\n",
    "        # if the root node has no children, return (to avoid executing the rest of the code) \n",
    "        return\n",
    "    \n",
    "    in_order_traversal(root_node.left_child)    # time complexity: O(n/2)\n",
    "    \n",
    "    print(root_node.data)\n",
    "    \n",
    "    in_order_traversal(root_node.right_child)   # time complexity: O(n/2)"
   ]
  },
  {
   "cell_type": "code",
   "execution_count": 107,
   "metadata": {},
   "outputs": [
    {
     "name": "stdout",
     "output_type": "stream",
     "text": [
      "10\n"
     ]
    }
   ],
   "source": [
    "# time complexity: O(n)\n",
    "# space complexity: O(n)\n",
    "in_order_traversal(new_AVL)"
   ]
  },
  {
   "cell_type": "markdown",
   "metadata": {},
   "source": [
    "##### Post-order Traversal of Binary Tree\n",
    "\n",
    "Order: Left subtree -> Right subtree -> Root node\n",
    "\n",
    "Time complexity: O(n)\n",
    "\n",
    "Space complexity: O(n)"
   ]
  },
  {
   "cell_type": "code",
   "execution_count": 108,
   "metadata": {},
   "outputs": [],
   "source": [
    "def post_order_traversal(root_node):\n",
    "    \"\"\"Recursive function to traverse the AVL tree in the order: Left subtree -> Right subtree -> Root node\"\"\"\n",
    "    if root_node is None:\n",
    "        return\n",
    "    \n",
    "    post_order_traversal(root_node.left_child)\n",
    "    post_order_traversal(root_node.right_child)\n",
    "    print(root_node.data)"
   ]
  },
  {
   "cell_type": "code",
   "execution_count": 109,
   "metadata": {},
   "outputs": [
    {
     "name": "stdout",
     "output_type": "stream",
     "text": [
      "10\n"
     ]
    }
   ],
   "source": [
    "# time complexity: O(n)\n",
    "# space complexity: O(n)\n",
    "post_order_traversal(new_AVL)"
   ]
  },
  {
   "cell_type": "markdown",
   "metadata": {},
   "source": [
    "##### Level Order Traversal of AVL Tree\n",
    "\n",
    "Time complexity: O(n)\n",
    "\n",
    "Space complexity: O(n)"
   ]
  },
  {
   "cell_type": "code",
   "execution_count": 110,
   "metadata": {},
   "outputs": [],
   "source": [
    "def level_order_traversal(root_node):\n",
    "    \"\"\"Recursive fun\"\"\"\n",
    "    if not root_node:\n",
    "        return\n",
    "    else:\n",
    "        # create queue\n",
    "        custom_queue = Queue()\n",
    "        \n",
    "        # add root node to the queue\n",
    "        custom_queue.enqueue(value=root_node)\n",
    "        \n",
    "        # looping through the custom_queue till its empty\n",
    "        while not custom_queue.is_empty():\n",
    "            # remove the root_node from the queue, which is the first node\n",
    "            root = custom_queue.dequeue()   # dequeue returns the first element in the queue\n",
    "            print(root.data)  # print the rootnode data\n",
    "            \n",
    "            # check if the root node has children and add it to the custom_queue\n",
    "            if root.left_child is not None:\n",
    "                custom_queue.enqueue(root.left_child)\n",
    "            if root.right_child is not None:\n",
    "                custom_queue.enqueue(root.right_child)    \n",
    "            "
   ]
  },
  {
   "cell_type": "code",
   "execution_count": 111,
   "metadata": {},
   "outputs": [
    {
     "name": "stdout",
     "output_type": "stream",
     "text": [
      "10\n"
     ]
    }
   ],
   "source": [
    "# time complexity: O(n)\n",
    "# space complexity: O(n), because of the use of queues\n",
    "level_order_traversal(new_AVL)"
   ]
  },
  {
   "cell_type": "markdown",
   "metadata": {},
   "source": [
    "### Search for a node in binary search tree\n",
    "\n",
    "Time complexity: O(logN)\n",
    "\n",
    "Space complexity: O(logN)"
   ]
  },
  {
   "cell_type": "code",
   "execution_count": 112,
   "metadata": {},
   "outputs": [],
   "source": [
    "def search_node(root_node, node_value):\n",
    "    \"\"\"Recursive function to search for a node in binary search tree\"\"\"\n",
    "    if not root_node:\n",
    "        return \"Tree is empty\"\n",
    "    else:\n",
    "        # check if the root node data is the node to be found\n",
    "        if root_node.data == node_value:\n",
    "            return \"The value is found\"\n",
    "            \n",
    "        # check if the node value is less than the root node value\n",
    "        elif node_value < root_node.data:\n",
    "            if root_node.left_child is None:    # check if root node has no left child\n",
    "                return \"The value is not found\"\n",
    "            else:\n",
    "                return search_node(root_node=root_node.left_child, node_value=node_value)\n",
    "        \n",
    "        # check if the node value is greater than the root node value        \n",
    "        elif node_value > root_node.data:\n",
    "            if root_node.right_child is None:   # check if root node has no right child\n",
    "                return \"The value is not found\"\n",
    "            else:\n",
    "                return search_node(root_node=root_node.right_child, node_value=node_value)\n",
    "        \n",
    "        else:\n",
    "            return \"The value is not found\""
   ]
  },
  {
   "cell_type": "code",
   "execution_count": 113,
   "metadata": {},
   "outputs": [
    {
     "data": {
      "text/plain": [
       "'The value is not found'"
      ]
     },
     "execution_count": 113,
     "metadata": {},
     "output_type": "execute_result"
    }
   ],
   "source": [
    "search_node(root_node=new_AVL, node_value=50)"
   ]
  },
  {
   "cell_type": "code",
   "execution_count": 114,
   "metadata": {},
   "outputs": [
    {
     "data": {
      "text/plain": [
       "'The value is found'"
      ]
     },
     "execution_count": 114,
     "metadata": {},
     "output_type": "execute_result"
    }
   ],
   "source": [
    "search_node(root_node=new_AVL, node_value=10)"
   ]
  },
  {
   "cell_type": "markdown",
   "metadata": {},
   "source": [
    "### Insert a node in AVL Tree\n",
    "\n",
    "Case 1: Rotation is not required\n",
    "\n",
    "Case 2: Rotation is required\n",
    "\n",
    "(Condition is the path that goes to the grandchild of the imbalanced node where height is more)\n",
    "\n",
    "\n",
    "  * LL - left left condition: Right Rotation of imbalanced node\n",
    "\n",
    "    * Time complexity: O(1)\n",
    "    * Space complexity: O(1)\n",
    "\n",
    "  * LR - left right condition: Left Rotation rotation of imbalanced node's left child -> Right Rotation of imbalanced node\n",
    "    * Time complexity: O(1)\n",
    "    * Space complexity: O(1)\n",
    "\n",
    "  * RR - right right condition: Left Rotation of imbalanced node\n",
    "    * Time complexity: O(1)\n",
    "    * Space complexity: O(1)\n",
    "\n",
    "  * RL - right left condition: Right Rotation of imbalanced node's right child -> Left Rotation of imbalanced node\n",
    "    * Time complexity: O(1)\n",
    "    * Space complexity: O(1)\n",
    "  \n",
    "**Algorithm for right rotation:**\n",
    "\n",
    "    rotate_right(imbalanced_node):\n",
    "      new_root = imbalanced_node.left_child\n",
    "      imbalanced_node.left_child = imbalanced_node.left_child.right_child\n",
    "      new_root.right_child = imbalanced_node\n",
    "      update height of imbalanced_node and new_root\n",
    "      return new_root\n",
    "\n",
    "**Algorithm for left rotation:**\n",
    "\n",
    "    rotate_left(imbalanced_node):\n",
    "        new_root = imbalanced_node.right_child\n",
    "        imbalanced_node.right_child = imbalanced_node.right_child.left_child\n",
    "        new_root.left_child = imbalanced_node\n",
    "        update height of imbalanced_node and new_root\n",
    "        return new_root\n",
    "\n",
    "Time complexity: O(logN)\n",
    "\n",
    "Space complexity: O(logN)"
   ]
  },
  {
   "cell_type": "code",
   "execution_count": 115,
   "metadata": {},
   "outputs": [],
   "source": [
    "def get_height(root_node):\n",
    "    \"\"\"Returns the height of the node\"\"\"\n",
    "    if not root_node:\n",
    "        return 0\n",
    "    \n",
    "    return root_node.height"
   ]
  },
  {
   "cell_type": "code",
   "execution_count": 116,
   "metadata": {},
   "outputs": [],
   "source": [
    "def rotate_right(imbalanced_node):\n",
    "    \"\"\"Imbalanced node is rotated right and returns the rotated balanced node\"\"\"\n",
    "    new_root = imbalanced_node.left_chid\n",
    "    imbalanced_node.left_child = imbalanced_node.left_child.right_child\n",
    "    new_root.right_child = imbalanced_node\n",
    "    \n",
    "    # update the height\n",
    "    # get_height(node) returns the height of the node, here 1 is added because it is the height of the children\n",
    "    imbalanced_node.height = 1 + max(get_height(imbalanced_node.left_child), get_height(imbalanced_node.right_child))\n",
    "    new_root.height = 1 + max(get_height(new_root.left_child), get_height(new_root.right_child))\n",
    "    \n",
    "    return new_root"
   ]
  },
  {
   "cell_type": "code",
   "execution_count": 117,
   "metadata": {},
   "outputs": [],
   "source": [
    "def rotate_left(imbalanced_node):\n",
    "    \"\"\"Imbalanced node is rotated left and returns the rotated balanced node\"\"\"\n",
    "    new_root = imbalanced_node.right_child\n",
    "    imbalanced_node.right_child = imbalanced_node.right_child.left_child\n",
    "    new_root.left_child = imbalanced_node\n",
    "    \n",
    "    # update the height\n",
    "    # get_height(node) returns the height of the node, here 1 is added because it is the height of the children\n",
    "    imbalanced_node.height = 1 + max(get_height(imbalanced_node.left_child), get_height(imbalanced_node.right_child))\n",
    "    new_root.height = 1 + max(get_height(new_root.left_child), get_height(new_root.right_child))\n",
    "    \n",
    "    return new_root"
   ]
  },
  {
   "cell_type": "code",
   "execution_count": 118,
   "metadata": {},
   "outputs": [],
   "source": [
    "def get_balance(root_node):\n",
    "    \"\"\"Check if the node is balanced and returns the difference between the height of its left and right subtrees\"\"\"\n",
    "    if not root_node:\n",
    "        return 0\n",
    "    \n",
    "    # balanced node value: 0 or 1\n",
    "    # unbalanced node value: \n",
    "        # if the left subtree height is more: value is more than 1\n",
    "        # if the right subtree height is more: value is less than -1\n",
    "    return get_height(root_node.left_child) - get_height(root_node.right_child)"
   ]
  },
  {
   "cell_type": "code",
   "execution_count": 121,
   "metadata": {},
   "outputs": [],
   "source": [
    "def insert_node(root_node, node_value):\n",
    "    \"\"\"Inserts a node into AVL Tree\"\"\"\n",
    "    # add the node to the AVL tree\n",
    "    # check first if there is a tree\n",
    "    if not root_node:\n",
    "        # create a new AVL tree and return it\n",
    "        return AVLNode(data=node_value)\n",
    "    \n",
    "    # check to add the new node to the left subtree recursively\n",
    "    elif node_value < root_node.data:\n",
    "        root_node.left_child = insert_node(root_node.left_child, node_value)\n",
    "    \n",
    "    # else add it to the right subtree because the node value is more than the root_node value\n",
    "    else:\n",
    "        root_node.right_child = insert_node(root_node.right_child, node_value)\n",
    "        \n",
    "    # update the root_node height\n",
    "    root_node.height = 1 + max(get_height(root_node.left_child), get_height(root_node.right_child))\n",
    "    \n",
    "    \n",
    "    # check if the root_node is balanced and balance the node if not\n",
    "    \n",
    "    # get_height(root_node.left_child) - get_height(root_node.right_child)\n",
    "    # difference between the height of left and right subtrees\n",
    "    balance = get_balance(root_node)\n",
    "    \n",
    "    # based on the value of balance and node_value, we can find which condition to pick\n",
    "    \n",
    "    # LL condition\n",
    "    if balance > 1 and node_value < root_node.left_child.data:  # this means the node is inserted into left of left child\n",
    "        return rotate_right(root_node)\n",
    "    # LR condition\n",
    "    if balance > 1 and node_value > root_node.left_child.data:\n",
    "        root_node.left_child = rotate_left(root_node.left_child)\n",
    "        return rotate_right(root_node)\n",
    "    # RR condition\n",
    "    if balance < -1 and node_value > root_node.right_child.data: \n",
    "        return rotate_left(root_node)\n",
    "    # RL condition\n",
    "    if balance < -1 and node_value < root_node.left_child.data:\n",
    "        root_node.right_child = rotate_right(root_node.right_child)\n",
    "        return rotate_right(root_node)\n",
    "    \n",
    "    return root_node"
   ]
  },
  {
   "cell_type": "code",
   "execution_count": 122,
   "metadata": {},
   "outputs": [],
   "source": [
    "# time complexity: O(logN)\n",
    "# space complexity: O(logN)\n",
    "new_AVL = insert_node(root_node=new_AVL, node_value=15)\n",
    "new_AVL = insert_node(root_node=new_AVL, node_value=20)"
   ]
  },
  {
   "cell_type": "code",
   "execution_count": 123,
   "metadata": {},
   "outputs": [
    {
     "name": "stdout",
     "output_type": "stream",
     "text": [
      "15\n",
      "10\n",
      "20\n"
     ]
    }
   ],
   "source": [
    "level_order_traversal(root_node=new_AVL)"
   ]
  },
  {
   "cell_type": "markdown",
   "metadata": {},
   "source": [
    "### Delete a node from AVL Tree\n",
    "\n",
    "Case 1: The tree does not exist\n",
    "\n",
    "Case 2: Rotation is not required \n",
    "\n",
    "    * Node to be deleted is a leaf node\n",
    "    * Node to be deleted has a child node (Replace the node with its child)\n",
    "    * Node to be deleted has two children (Replace the node with successor(node with minimum value) of its right subtree)\n",
    "\n",
    "Case 3: Rotation is required (LL, LR, RR, RL)\n",
    "\n",
    "Time complexity: O(logN)\n",
    "\n",
    "Space complexity: O(logN)\n",
    "   "
   ]
  },
  {
   "cell_type": "code",
   "execution_count": 124,
   "metadata": {},
   "outputs": [],
   "source": [
    "def get_min_value_node(root_node):\n",
    "    \"\"\"Returns the node with minimum value\"\"\"\n",
    "    if root_node is None or root_node.left_child is None:\n",
    "        return root_node\n",
    "    \n",
    "    return get_min_value_node(root_node.left_child)"
   ]
  },
  {
   "cell_type": "code",
   "execution_count": 125,
   "metadata": {},
   "outputs": [],
   "source": [
    "def delete_node_avl(root_node, node_value):\n",
    "    \"\"\"Deletes a node from AVL Tree\"\"\"\n",
    "    if not root_node:\n",
    "        return root_node\n",
    "    \n",
    "    # check if the value to delete is less than the root node, then traverse through the left side, \n",
    "    # otherwise traverse the right side\n",
    "    if node_value < root_node.data:\n",
    "        root_node.left_child = delete_node_avl(root_node=root_node.left_child, node_value=node_value)\n",
    "    elif node_value > root_node.data:\n",
    "        root_node.right_child = delete_node_avl(root_node=root_node.right_child, node_value=node_value)\n",
    "    \n",
    "    # otherwise the nodevalue is equal to the root_node\n",
    "    # or reached the end of the tree and node_value is not found\n",
    "    else:\n",
    "        ### 1. Rotation not required\n",
    "        # case 1, 2: deleting a node with no children, single child (left or right child)\n",
    "        # check if the left_child is empty\n",
    "        if root_node.left_child is None:\n",
    "            temp = root_node.right_child\n",
    "            rootnode = None\n",
    "            return temp\n",
    "        # check if the right child is empty\n",
    "        if root_node.right_child is None:\n",
    "            temp = root_node.left_child\n",
    "            rootnode = None\n",
    "            return temp\n",
    "        \n",
    "        # case 3: deleting a node with two children\n",
    "        # here the node to be deleted is replaced with node with minimum value from the right subtree\n",
    "        \n",
    "        # get the minimum value node from the right subtree of the node to be deleted\n",
    "        temp = get_min_value_node(root_node.right_child)\n",
    "        root_node.data = temp.data  # update the current node with the minimum value node data\n",
    "        # delete the minimum value node from the right subtree\n",
    "        root_node.right_child = delete_node_avl(root_node=root_node.right_child, node_value=temp.data)\n",
    "        \n",
    "        \n",
    "    ### 2. Rotation is required\n",
    "    \n",
    "    # check if the root_node is balanced and balance the node if not\n",
    "    \n",
    "    # get_height(root_node.left_child) - get_height(root_node.right_child)\n",
    "    # difference between the height of left and right subtrees\n",
    "    balance = get_balance(root_node)\n",
    "    \n",
    "    # based on the value of balance and node_value, we can find which condition to pick\n",
    "    \n",
    "    # LL condition\n",
    "    if balance > 1 and get_balance(root_node.left_child) >= 0:  # this means the node is inserted into left of left child\n",
    "        return rotate_right(root_node)\n",
    "    # LR condition\n",
    "    if balance > 1 and get_balance(root_node.left_child) < 0:\n",
    "        root_node.left_child = rotate_left(root_node.left_child)\n",
    "        return rotate_right(root_node)\n",
    "    # RR condition\n",
    "    if balance < -1 and get_balance(root_node.right_child) >= 0: \n",
    "        return rotate_left(root_node)\n",
    "    # RL condition\n",
    "    if balance < -1 and get_balance(root_node.right_child) > 0:\n",
    "        root_node.right_child = rotate_right(root_node.right_child)\n",
    "        return rotate_right(root_node)\n",
    "    \n",
    "    return root_node"
   ]
  },
  {
   "cell_type": "code",
   "execution_count": 126,
   "metadata": {},
   "outputs": [
    {
     "name": "stdout",
     "output_type": "stream",
     "text": [
      "15\n",
      "10\n",
      "20\n"
     ]
    }
   ],
   "source": [
    "level_order_traversal(new_AVL)"
   ]
  },
  {
   "cell_type": "code",
   "execution_count": 127,
   "metadata": {},
   "outputs": [],
   "source": [
    "new_AVL = delete_node_avl(root_node=new_AVL, node_value=10)"
   ]
  },
  {
   "cell_type": "code",
   "execution_count": 128,
   "metadata": {},
   "outputs": [
    {
     "name": "stdout",
     "output_type": "stream",
     "text": [
      "15\n",
      "20\n"
     ]
    }
   ],
   "source": [
    "level_order_traversal(new_AVL)"
   ]
  },
  {
   "cell_type": "code",
   "execution_count": 129,
   "metadata": {},
   "outputs": [],
   "source": [
    "new_AVL = delete_node_avl(root_node=new_AVL, node_value=100)\n"
   ]
  },
  {
   "cell_type": "markdown",
   "metadata": {},
   "source": [
    "### Delete entire AVL Tree\n",
    "\n",
    "**Algorithm:**\n",
    "\n",
    "    root_node = None\n",
    "    root_node.left_child = None\n",
    "    root_node.right_child = None\n",
    "\n",
    "\n",
    "Time complexity: O(1)\n",
    "\n",
    "Space complexity: O(1)"
   ]
  },
  {
   "cell_type": "code",
   "execution_count": 130,
   "metadata": {},
   "outputs": [],
   "source": [
    "def delete_AVL(root_node):\n",
    "    \"\"\"Deletes entire AVL tree\"\"\"\n",
    "    root_node.data = None\n",
    "    root_node.left_child = None\n",
    "    root_node.right_child = None\n",
    "    return \"The AVL Tree has been successfully deleted\""
   ]
  },
  {
   "cell_type": "code",
   "execution_count": 131,
   "metadata": {},
   "outputs": [
    {
     "data": {
      "text/plain": [
       "'The AVL Tree has been successfully deleted'"
      ]
     },
     "execution_count": 131,
     "metadata": {},
     "output_type": "execute_result"
    }
   ],
   "source": [
    "delete_AVL(root_node=new_AVL)"
   ]
  },
  {
   "cell_type": "code",
   "execution_count": 132,
   "metadata": {},
   "outputs": [
    {
     "name": "stdout",
     "output_type": "stream",
     "text": [
      "None\n"
     ]
    }
   ],
   "source": [
    "level_order_traversal(new_AVL)"
   ]
  }
 ],
 "metadata": {
  "kernelspec": {
   "display_name": "Python 3.10.1 ('venv': venv)",
   "language": "python",
   "name": "python3"
  },
  "language_info": {
   "codemirror_mode": {
    "name": "ipython",
    "version": 3
   },
   "file_extension": ".py",
   "mimetype": "text/x-python",
   "name": "python",
   "nbconvert_exporter": "python",
   "pygments_lexer": "ipython3",
   "version": "3.10.1"
  },
  "orig_nbformat": 4,
  "vscode": {
   "interpreter": {
    "hash": "1e9e906ed1bcd16395bf324e1dc9b0d6266e30bb5a7212e78bbc15ab48b3a7f0"
   }
  }
 },
 "nbformat": 4,
 "nbformat_minor": 2
}
