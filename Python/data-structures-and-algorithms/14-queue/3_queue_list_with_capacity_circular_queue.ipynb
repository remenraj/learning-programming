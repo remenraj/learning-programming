{
 "cells": [
  {
   "cell_type": "markdown",
   "metadata": {},
   "source": [
    "# Queue with Capacity/Circular Queue"
   ]
  },
  {
   "cell_type": "markdown",
   "metadata": {},
   "source": [
    "### Classes"
   ]
  },
  {
   "cell_type": "code",
   "execution_count": 83,
   "metadata": {},
   "outputs": [],
   "source": [
    "class Queue:\n",
    "    def __init__(self, max_size) -> None:\n",
    "        self.items = [None] * max_size\n",
    "        self.max_size = max_size\n",
    "        self.front = -1\n",
    "        self.end = -1\n",
    "        \n",
    "    def __str__(self) -> str:\n",
    "        \"\"\" Returns a string representation of the queue when the object is printed. \"\"\"\n",
    "        if self.is_empty():\n",
    "            return \"The Queue is empty\"\n",
    "        else:\n",
    "            values = [str(x) for x in self.items]\n",
    "            return \" \".join(values)\n",
    "    \n",
    "    def is_empty(self) -> bool:\n",
    "        \"\"\" Returns True if the queue is empty. \"\"\"\n",
    "        return self.front == -1\n",
    "\n",
    "    def is_full(self) -> bool:\n",
    "        \"\"\" Returns True if the queue is full. \"\"\"\n",
    "        # check if the end is at the last index of the array\n",
    "        if self.front == 0 and self.end == self.max_size - 1:\n",
    "            return True\n",
    "        # check if end is behind the front\n",
    "        elif self.front == self.end + 1:\n",
    "            return True\n",
    "        # otherwise, the queue is not full\n",
    "        else:\n",
    "            return False\n",
    "        \n",
    "    def enqueue(self, value) -> str:\n",
    "        \"\"\" Adds a value to the end of the queue. \"\"\"\n",
    "        if self.is_full():\n",
    "            return \"The queue is full\"\n",
    "        else:\n",
    "            # update the end index\n",
    "            # check if end is at the last index of the list\n",
    "            if self.end + 1 == self.max_size:\n",
    "                self.end = 0    # reset the end index to the first index of the list, because the first index is free\n",
    "            else:\n",
    "                self.end += 1\n",
    "                # check if list is empty, then update the front index\n",
    "                # front index is only updated when an element is deleted or first element is added\n",
    "                if self.front == -1:\n",
    "                    self.front = 0\n",
    "            \n",
    "            # add the value to the end of the list\n",
    "            self.items[self.end] = value\n",
    "            return f\"Added {value} to the queue\"\n",
    "        \n",
    "    def dequeue(self):\n",
    "        \"\"\" Removes the value at the front of the queue. \"\"\"\n",
    "        if self.is_empty():\n",
    "            return \"The queue is empty\"\n",
    "        else:\n",
    "            first_element = self.items[self.front]\n",
    "            front = self.front\n",
    "            # check if only one element is in the queue, update the front and end index to -1\n",
    "            if self.front == self.end:\n",
    "                self.front = -1\n",
    "                self.end = -1\n",
    "            \n",
    "            # check if the first element points to the last index of the list\n",
    "            elif self.front +1 == self.max_size:\n",
    "                self.front = 0  \n",
    "            \n",
    "            # otherwise, update the front index by 1\n",
    "            else:\n",
    "                self.front += 1\n",
    "            \n",
    "            # update the value of the first element to None\n",
    "            self.items[front] = None\n",
    "            # return the element that is deleted\n",
    "            return first_element\n",
    "        \n",
    "    def peek(self):\n",
    "        \"\"\" Returns the value at the front of the queue. \"\"\"\n",
    "        if self.is_empty():\n",
    "            return \"The queue is empty\"\n",
    "        else:\n",
    "            return self.items[self.front]\n",
    "        \n",
    "    def delete(self):\n",
    "        self.items = self.max_size * [None]\n",
    "        self.front = -1\n",
    "        self.end = -1"
   ]
  },
  {
   "cell_type": "code",
   "execution_count": 84,
   "metadata": {},
   "outputs": [
    {
     "data": {
      "text/plain": [
       "[1, 1, 1, 1]"
      ]
     },
     "execution_count": 84,
     "metadata": {},
     "output_type": "execute_result"
    }
   ],
   "source": [
    "[1]*4"
   ]
  },
  {
   "cell_type": "markdown",
   "metadata": {},
   "source": [
    "### Operations"
   ]
  },
  {
   "cell_type": "code",
   "execution_count": 85,
   "metadata": {},
   "outputs": [],
   "source": [
    "# creating a queue with capacity of 4\n",
    "# time complexity: O(1)\n",
    "# space complexity: O(n)\n",
    "custom_queue = Queue(max_size=4)"
   ]
  },
  {
   "cell_type": "code",
   "execution_count": 86,
   "metadata": {},
   "outputs": [
    {
     "name": "stdout",
     "output_type": "stream",
     "text": [
      "The Queue is empty\n"
     ]
    }
   ],
   "source": [
    "print(custom_queue)"
   ]
  },
  {
   "cell_type": "code",
   "execution_count": 87,
   "metadata": {},
   "outputs": [
    {
     "data": {
      "text/plain": [
       "True"
      ]
     },
     "execution_count": 87,
     "metadata": {},
     "output_type": "execute_result"
    }
   ],
   "source": [
    "# time complexity: O(1)\n",
    "# space complexity: O(1)\n",
    "custom_queue.is_empty()"
   ]
  },
  {
   "cell_type": "code",
   "execution_count": 88,
   "metadata": {},
   "outputs": [
    {
     "data": {
      "text/plain": [
       "'Added 4 to the queue'"
      ]
     },
     "execution_count": 88,
     "metadata": {},
     "output_type": "execute_result"
    }
   ],
   "source": [
    "# add elements to the queue\n",
    "# time complexity: O(1)\n",
    "# space complexity: O(1)\n",
    "custom_queue.enqueue(value=1)\n",
    "custom_queue.enqueue(value=2)\n",
    "custom_queue.enqueue(value=3)\n",
    "custom_queue.enqueue(value=4)"
   ]
  },
  {
   "cell_type": "code",
   "execution_count": 89,
   "metadata": {},
   "outputs": [
    {
     "name": "stdout",
     "output_type": "stream",
     "text": [
      "1 2 3 4\n"
     ]
    }
   ],
   "source": [
    "print(custom_queue)"
   ]
  },
  {
   "cell_type": "code",
   "execution_count": 90,
   "metadata": {},
   "outputs": [
    {
     "data": {
      "text/plain": [
       "True"
      ]
     },
     "execution_count": 90,
     "metadata": {},
     "output_type": "execute_result"
    }
   ],
   "source": [
    "# time complexity: O(1)\n",
    "# space complexity: O(1)\n",
    "custom_queue.is_full()"
   ]
  },
  {
   "cell_type": "code",
   "execution_count": 91,
   "metadata": {},
   "outputs": [
    {
     "data": {
      "text/plain": [
       "'The queue is full'"
      ]
     },
     "execution_count": 91,
     "metadata": {},
     "output_type": "execute_result"
    }
   ],
   "source": [
    "custom_queue.enqueue(value=5)"
   ]
  },
  {
   "cell_type": "code",
   "execution_count": 92,
   "metadata": {},
   "outputs": [
    {
     "data": {
      "text/plain": [
       "1"
      ]
     },
     "execution_count": 92,
     "metadata": {},
     "output_type": "execute_result"
    }
   ],
   "source": [
    "# time complexity: O(1)\n",
    "# space complexity: O(1)\n",
    "custom_queue.dequeue()"
   ]
  },
  {
   "cell_type": "code",
   "execution_count": 93,
   "metadata": {},
   "outputs": [
    {
     "name": "stdout",
     "output_type": "stream",
     "text": [
      "None 2 3 4\n"
     ]
    }
   ],
   "source": [
    "print(custom_queue)"
   ]
  },
  {
   "cell_type": "code",
   "execution_count": 94,
   "metadata": {},
   "outputs": [
    {
     "data": {
      "text/plain": [
       "2"
      ]
     },
     "execution_count": 94,
     "metadata": {},
     "output_type": "execute_result"
    }
   ],
   "source": [
    "# time complexity: O(1)\n",
    "# space complexity: O(1)\n",
    "custom_queue.peek()"
   ]
  },
  {
   "cell_type": "code",
   "execution_count": 95,
   "metadata": {},
   "outputs": [],
   "source": [
    "# time complexity: O(1)\n",
    "# space complexity: O(1)\n",
    "custom_queue.delete()"
   ]
  },
  {
   "cell_type": "code",
   "execution_count": 96,
   "metadata": {},
   "outputs": [
    {
     "name": "stdout",
     "output_type": "stream",
     "text": [
      "The Queue is empty\n"
     ]
    }
   ],
   "source": [
    "print(custom_queue)"
   ]
  }
 ],
 "metadata": {
  "interpreter": {
   "hash": "1e9e906ed1bcd16395bf324e1dc9b0d6266e30bb5a7212e78bbc15ab48b3a7f0"
  },
  "kernelspec": {
   "display_name": "Python 3.10.1 ('venv': venv)",
   "language": "python",
   "name": "python3"
  },
  "language_info": {
   "codemirror_mode": {
    "name": "ipython",
    "version": 3
   },
   "file_extension": ".py",
   "mimetype": "text/x-python",
   "name": "python",
   "nbconvert_exporter": "python",
   "pygments_lexer": "ipython3",
   "version": "3.10.1"
  },
  "orig_nbformat": 4
 },
 "nbformat": 4,
 "nbformat_minor": 2
}
