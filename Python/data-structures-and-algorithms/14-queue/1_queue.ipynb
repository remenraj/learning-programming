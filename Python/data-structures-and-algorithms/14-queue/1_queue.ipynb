{
 "cells": [
  {
   "cell_type": "markdown",
   "metadata": {},
   "source": [
    "# Queue\n",
    "\n",
    "Queue is a data structure that stores items in a FIRST IN FIRST OUT (FIFO) manner.\n",
    "\n",
    "E.g.: A queue of grocery items, Point of sale system of a restaurant, Printing queue of a printer, call center phone systems, etc."
   ]
  },
  {
   "cell_type": "markdown",
   "metadata": {},
   "source": [
    "### Queue Operations:\n",
    "* Create Queue\n",
    "* Enqueue: Add an item to the queue\n",
    "* Dequeue: Remove an item from the queue\n",
    "* Peek: Get the first item in the queue\n",
    "* is_empty: Check if the queue is empty\n",
    "* is_full: Check if the queue is full\n",
    "* delete_queue: Delete the queue\n",
    "\n",
    "### Implementation:\n",
    "* Python List:\n",
    "  * Queue without capacity\n",
    "  * Queue with capacity (Circular Queue)\n",
    "\n",
    "* Linked List"
   ]
  }
 ],
 "metadata": {
  "interpreter": {
   "hash": "1e9e906ed1bcd16395bf324e1dc9b0d6266e30bb5a7212e78bbc15ab48b3a7f0"
  },
  "kernelspec": {
   "display_name": "Python 3.10.1 ('venv': venv)",
   "language": "python",
   "name": "python3"
  },
  "language_info": {
   "name": "python",
   "version": "3.10.1"
  },
  "orig_nbformat": 4
 },
 "nbformat": 4,
 "nbformat_minor": 2
}
