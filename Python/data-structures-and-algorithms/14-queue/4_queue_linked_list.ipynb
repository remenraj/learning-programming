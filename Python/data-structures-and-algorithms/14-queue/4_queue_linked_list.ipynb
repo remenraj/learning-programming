{
 "cells": [
  {
   "cell_type": "markdown",
   "metadata": {},
   "source": [
    "# Queue using Linked List"
   ]
  },
  {
   "cell_type": "markdown",
   "metadata": {},
   "source": [
    "### Classes"
   ]
  },
  {
   "cell_type": "code",
   "execution_count": 72,
   "metadata": {},
   "outputs": [],
   "source": [
    "class Node:\n",
    "    \"\"\" Node Class\"\"\"\n",
    "    def __init__(self, value=None) -> None:\n",
    "        self.value = value\n",
    "        self.next = None"
   ]
  },
  {
   "cell_type": "code",
   "execution_count": 73,
   "metadata": {},
   "outputs": [],
   "source": [
    "class LinkedList:\n",
    "    \"\"\"Linked List Class\"\"\"\n",
    "    def __init__(self) -> None:\n",
    "        self.head = None\n",
    "        self.tail = None\n",
    "        \n",
    "    def __iter__(self):\n",
    "        \"\"\"Iterate over the linked list to print the values\"\"\"\n",
    "        current_node = self.head\n",
    "        while current_node:\n",
    "            yield current_node\n",
    "            current_node = current_node.next"
   ]
  },
  {
   "cell_type": "code",
   "execution_count": 74,
   "metadata": {},
   "outputs": [],
   "source": [
    "class Queue:\n",
    "    \"\"\"Queue Class\"\"\"\n",
    "    def __init__(self) -> None:\n",
    "        \"\"\"Initialize the queue\"\"\"\n",
    "        self.linked_list = LinkedList()\n",
    "    \n",
    "    def __str__(self) -> str:\n",
    "        \"\"\"Print the queue\"\"\"\n",
    "        if self.linked_list.head is None:\n",
    "            return \"Queue is empty\"\n",
    "        else:\n",
    "            values = [str(x.value) for x in self.linked_list]\n",
    "            return \" \".join(values)\n",
    "    \n",
    "    def is_empty(self) -> bool:\n",
    "        \"\"\"Check if the queue is empty\"\"\"\n",
    "        return self.linked_list.head is None\n",
    "    \n",
    "    def enqueue(self, value) -> None:\n",
    "        \"\"\"Add a value to the queue\"\"\"\n",
    "        # create a new node\n",
    "        new_node = Node(value)\n",
    "        \n",
    "        # check if the queue is empty\n",
    "        if self.linked_list.head is None:\n",
    "            self.linked_list.head = new_node\n",
    "            self.linked_list.tail = new_node\n",
    "        \n",
    "        # otherwise, add the node to the end of the queue\n",
    "        else:\n",
    "            self.linked_list.tail.next = new_node\n",
    "            self.linked_list.tail = new_node\n",
    "            \n",
    "    def dequeue(self):\n",
    "        \"\"\"Remove the first value from the queue\"\"\"\n",
    "        # check if the queue is empty\n",
    "        if self.is_empty():\n",
    "            return \"Queue is empty\"\n",
    "        \n",
    "        # otherwise, remove the first value from the queue\n",
    "        else:\n",
    "            # for returning the value\n",
    "            temp_node = self.linked_list.head\n",
    "            \n",
    "            # check if only one node in the queue, then set head and tail to None\n",
    "            if self.linked_list.head == self.linked_list.tail:\n",
    "                self.linked_list.head = None\n",
    "                self.linked_list.tail =  None\n",
    "            \n",
    "            # otherwise, set the head to the next node    \n",
    "            else:\n",
    "                # remove the first value\n",
    "                self.linked_list.head = self.linked_list.head.next\n",
    "            \n",
    "            # return the value\n",
    "            return temp_node.value\n",
    "        \n",
    "    def peek(self):\n",
    "        \"\"\"Return the first value in the queue\"\"\"\n",
    "        if self.is_empty():\n",
    "            return \"Queue is empty\"\n",
    "        else:\n",
    "            return self.linked_list.head.value\n",
    "        \n",
    "    def delete(self):\n",
    "        \"\"\"Delete the entire queue\"\"\"\n",
    "        self.linked_list.head = None\n",
    "        self.linked_list.tail = None"
   ]
  },
  {
   "cell_type": "markdown",
   "metadata": {},
   "source": [
    "### Queue Operations"
   ]
  },
  {
   "cell_type": "code",
   "execution_count": 75,
   "metadata": {},
   "outputs": [],
   "source": [
    "# create queue\n",
    "# time complexity: O(1)\n",
    "# space complexity: O(1)\n",
    "custom_queue = Queue()"
   ]
  },
  {
   "cell_type": "code",
   "execution_count": 76,
   "metadata": {},
   "outputs": [
    {
     "name": "stdout",
     "output_type": "stream",
     "text": [
      "Queue is empty\n"
     ]
    }
   ],
   "source": [
    "print(custom_queue)"
   ]
  },
  {
   "cell_type": "code",
   "execution_count": 77,
   "metadata": {},
   "outputs": [],
   "source": [
    "# time complexity: O(1)\n",
    "# space complexity: O(1)\n",
    "custom_queue.enqueue(1)\n",
    "custom_queue.enqueue(2)\n",
    "custom_queue.enqueue(3)"
   ]
  },
  {
   "cell_type": "code",
   "execution_count": 78,
   "metadata": {},
   "outputs": [
    {
     "name": "stdout",
     "output_type": "stream",
     "text": [
      "1 2 3\n"
     ]
    }
   ],
   "source": [
    "print(custom_queue)"
   ]
  },
  {
   "cell_type": "code",
   "execution_count": 79,
   "metadata": {},
   "outputs": [
    {
     "data": {
      "text/plain": [
       "False"
      ]
     },
     "execution_count": 79,
     "metadata": {},
     "output_type": "execute_result"
    }
   ],
   "source": [
    "# time complexity: O(1)\n",
    "# space complexity: O(1)\n",
    "custom_queue.is_empty()"
   ]
  },
  {
   "cell_type": "code",
   "execution_count": 80,
   "metadata": {},
   "outputs": [
    {
     "data": {
      "text/plain": [
       "1"
      ]
     },
     "execution_count": 80,
     "metadata": {},
     "output_type": "execute_result"
    }
   ],
   "source": [
    "# dequeue the first value\n",
    "# time complexity: O(1)\n",
    "# space complexity: O(1)\n",
    "custom_queue.dequeue()"
   ]
  },
  {
   "cell_type": "code",
   "execution_count": 81,
   "metadata": {},
   "outputs": [
    {
     "name": "stdout",
     "output_type": "stream",
     "text": [
      "2 3\n"
     ]
    }
   ],
   "source": [
    "print(custom_queue)"
   ]
  },
  {
   "cell_type": "code",
   "execution_count": 82,
   "metadata": {},
   "outputs": [
    {
     "data": {
      "text/plain": [
       "2"
      ]
     },
     "execution_count": 82,
     "metadata": {},
     "output_type": "execute_result"
    }
   ],
   "source": [
    "# time complexity: O(1)\n",
    "# space complexity: O(1)\n",
    "custom_queue.peek()"
   ]
  },
  {
   "cell_type": "code",
   "execution_count": 83,
   "metadata": {},
   "outputs": [],
   "source": [
    "# time complexity: O(1)\n",
    "# space complexity: O(1)\n",
    "custom_queue.delete()"
   ]
  },
  {
   "cell_type": "code",
   "execution_count": 84,
   "metadata": {},
   "outputs": [
    {
     "name": "stdout",
     "output_type": "stream",
     "text": [
      "Queue is empty\n"
     ]
    }
   ],
   "source": [
    "print(custom_queue)"
   ]
  }
 ],
 "metadata": {
  "interpreter": {
   "hash": "1e9e906ed1bcd16395bf324e1dc9b0d6266e30bb5a7212e78bbc15ab48b3a7f0"
  },
  "kernelspec": {
   "display_name": "Python 3.10.1 ('venv': venv)",
   "language": "python",
   "name": "python3"
  },
  "language_info": {
   "codemirror_mode": {
    "name": "ipython",
    "version": 3
   },
   "file_extension": ".py",
   "mimetype": "text/x-python",
   "name": "python",
   "nbconvert_exporter": "python",
   "pygments_lexer": "ipython3",
   "version": "3.10.1"
  },
  "orig_nbformat": 4
 },
 "nbformat": 4,
 "nbformat_minor": 2
}
