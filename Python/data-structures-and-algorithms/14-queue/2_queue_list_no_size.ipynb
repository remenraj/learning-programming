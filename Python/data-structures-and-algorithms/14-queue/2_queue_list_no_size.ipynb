{
 "cells": [
  {
   "cell_type": "markdown",
   "metadata": {},
   "source": [
    "# Queue with no size limit using Python List."
   ]
  },
  {
   "cell_type": "markdown",
   "metadata": {},
   "source": [
    "### Classes"
   ]
  },
  {
   "cell_type": "code",
   "execution_count": 31,
   "metadata": {},
   "outputs": [],
   "source": [
    "# queue class\n",
    "class Queue:\n",
    "    def __init__(self) -> None:\n",
    "        self.items = []\n",
    "        \n",
    "    def __str__(self) -> str:\n",
    "        \"\"\" Returns a string representation of the queue when the object is printed. \"\"\"\n",
    "        if self.is_empty():\n",
    "            return \"The Queue is empty\"\n",
    "        else:\n",
    "            values = [str(x) for x in self.items]\n",
    "            return \" \".join(values)\n",
    "\n",
    "    def isEmpty(self) -> bool:\n",
    "        \"\"\" Returns True if the queue is empty. \"\"\"\n",
    "        return self.items == []\n",
    "\n",
    "    def enqueue(self, value) -> str:\n",
    "        \"\"\" Adds a value to the end of the queue. \"\"\"\n",
    "        self.items.append(value)\n",
    "        return f\"{value} enqueued\"\n",
    "\n",
    "    def dequeue(self):\n",
    "        \"\"\" Removes and returns the value at the front of the queue. \"\"\"\n",
    "        if self.isEmpty():\n",
    "            return \"Queue is empty\"\n",
    "        else:\n",
    "            return self.items.pop(0)\n",
    "\n",
    "    def peek(self):\n",
    "        \"\"\" Returns the value at the front of the queue without removing it. \"\"\"\n",
    "        if self.isEmpty():\n",
    "            return \"Queue is empty\"\n",
    "        else:\n",
    "            return self.items[0]\n",
    "    \n",
    "    def delete(self):\n",
    "        \"\"\" Removes all items from the queue. \"\"\"\n",
    "        self.items = []\n",
    "        return \"Queue deleted\""
   ]
  },
  {
   "cell_type": "markdown",
   "metadata": {},
   "source": [
    "### Queue Operations"
   ]
  },
  {
   "cell_type": "code",
   "execution_count": 32,
   "metadata": {},
   "outputs": [],
   "source": [
    "# create queue\n",
    "# time complexity: O(1)\n",
    "# space complexity: O(1)\n",
    "custom_queue = Queue()"
   ]
  },
  {
   "cell_type": "code",
   "execution_count": 33,
   "metadata": {},
   "outputs": [
    {
     "data": {
      "text/plain": [
       "True"
      ]
     },
     "execution_count": 33,
     "metadata": {},
     "output_type": "execute_result"
    }
   ],
   "source": [
    "# time complexity: O(1)\n",
    "# space complexity: O(1)\n",
    "custom_queue.isEmpty()"
   ]
  },
  {
   "cell_type": "code",
   "execution_count": 34,
   "metadata": {},
   "outputs": [
    {
     "data": {
      "text/plain": [
       "'3 enqueued'"
      ]
     },
     "execution_count": 34,
     "metadata": {},
     "output_type": "execute_result"
    }
   ],
   "source": [
    "# add values to queue\n",
    "# time complexity: amortized O(n)/O(n2)\n",
    "# space complexity: O(n)\n",
    "custom_queue.enqueue(1)\n",
    "custom_queue.enqueue(2)\n",
    "custom_queue.enqueue(3)"
   ]
  },
  {
   "cell_type": "code",
   "execution_count": 35,
   "metadata": {},
   "outputs": [
    {
     "name": "stdout",
     "output_type": "stream",
     "text": [
      "1 2 3\n"
     ]
    }
   ],
   "source": [
    "print(custom_queue)"
   ]
  },
  {
   "cell_type": "code",
   "execution_count": 36,
   "metadata": {},
   "outputs": [
    {
     "data": {
      "text/plain": [
       "1"
      ]
     },
     "execution_count": 36,
     "metadata": {},
     "output_type": "execute_result"
    }
   ],
   "source": [
    "# remove values from queue\n",
    "# time complexity: O(n), since removing from the front of the queue\n",
    "# space complexity: O(1)\n",
    "custom_queue.dequeue()"
   ]
  },
  {
   "cell_type": "code",
   "execution_count": 37,
   "metadata": {},
   "outputs": [
    {
     "name": "stdout",
     "output_type": "stream",
     "text": [
      "2 3\n"
     ]
    }
   ],
   "source": [
    "print(custom_queue)"
   ]
  },
  {
   "cell_type": "code",
   "execution_count": 38,
   "metadata": {},
   "outputs": [
    {
     "data": {
      "text/plain": [
       "2"
      ]
     },
     "execution_count": 38,
     "metadata": {},
     "output_type": "execute_result"
    }
   ],
   "source": [
    "# peek at value at front of queue\n",
    "# time complexity: O(1)\n",
    "# space complexity: O(1)\n",
    "custom_queue.peek()"
   ]
  },
  {
   "cell_type": "code",
   "execution_count": 39,
   "metadata": {},
   "outputs": [
    {
     "data": {
      "text/plain": [
       "'Queue deleted'"
      ]
     },
     "execution_count": 39,
     "metadata": {},
     "output_type": "execute_result"
    }
   ],
   "source": [
    "# delete a queue\n",
    "# time complexity: O(1)\n",
    "# space complexity: O(1)\n",
    "custom_queue.delete()"
   ]
  }
 ],
 "metadata": {
  "interpreter": {
   "hash": "1e9e906ed1bcd16395bf324e1dc9b0d6266e30bb5a7212e78bbc15ab48b3a7f0"
  },
  "kernelspec": {
   "display_name": "Python 3.10.1 ('venv': venv)",
   "language": "python",
   "name": "python3"
  },
  "language_info": {
   "codemirror_mode": {
    "name": "ipython",
    "version": 3
   },
   "file_extension": ".py",
   "mimetype": "text/x-python",
   "name": "python",
   "nbconvert_exporter": "python",
   "pygments_lexer": "ipython3",
   "version": "3.10.1"
  },
  "orig_nbformat": 4
 },
 "nbformat": 4,
 "nbformat_minor": 2
}
