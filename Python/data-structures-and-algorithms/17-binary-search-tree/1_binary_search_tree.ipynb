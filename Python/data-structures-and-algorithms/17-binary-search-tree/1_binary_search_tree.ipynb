{
 "cells": [
  {
   "cell_type": "markdown",
   "metadata": {},
   "source": [
    "# Binary Search Tree\n",
    "\n",
    "**Properties**\n",
    "* In th left subtree the value of a node is less than or equal to its parent node's value.\n",
    "* In the right subtree the value of a node is greater than its parent node's value.\n",
    "\n",
    "\n",
    "**Why Binary search tree:**\n",
    "* It performs faster than binary tree when inserting and deleting nodes.\n",
    "\n",
    "**Common Operations on binary search tree**\n",
    "* Creation of tree\n",
    "* Insertion of a node\n",
    "* Deletion of a node\n",
    "* Search for a value\n",
    "* Traverse all nodes\n",
    "* Deletion of tree"
   ]
  },
  {
   "cell_type": "markdown",
   "metadata": {},
   "source": [
    "### Binary Search Tree Classes"
   ]
  },
  {
   "cell_type": "markdown",
   "metadata": {},
   "source": [
    "#### Tree Node Class"
   ]
  },
  {
   "cell_type": "code",
   "execution_count": 430,
   "metadata": {},
   "outputs": [],
   "source": [
    "class BSTNode:\n",
    "    def __init__(self, data):\n",
    "        self.data = data\n",
    "        self.left_child = None\n",
    "        self.right_child = None\n",
    "        \n",
    "    def __str__(self, level=0):\n",
    "        \"\"\"To printing out the node values as well as the tree\"\"\"\n",
    "        ret = \"    \" * level + str(self.data) + \"\\n\"\n",
    "        \n",
    "        # check if there are no children\n",
    "        if self.left_child is None and self.right_child is None:\n",
    "            return ret\n",
    "        else:\n",
    "            # add the children to the list if any for iteration\n",
    "            children = []\n",
    "            if self.left_child is not None:\n",
    "                children.append(self.left_child)\n",
    "            if self.right_child is not None:\n",
    "                children.append(self.right_child)\n",
    "                \n",
    "            for child in children:\n",
    "                ret += child.__str__(level + 1)\n",
    "                \n",
    "            return ret"
   ]
  },
  {
   "cell_type": "markdown",
   "metadata": {},
   "source": [
    "#### Classes for Queue in Level Order Traversal of Binary Tree"
   ]
  },
  {
   "cell_type": "markdown",
   "metadata": {},
   "source": [
    "##### Node class for queue"
   ]
  },
  {
   "cell_type": "code",
   "execution_count": 431,
   "metadata": {},
   "outputs": [],
   "source": [
    "class Node:\n",
    "    \"\"\" Node Class\"\"\"\n",
    "    def __init__(self, value=None) -> None:\n",
    "        self.value = value\n",
    "        self.next = None\n",
    "        \n",
    "    def __str__(self):\n",
    "        return str(self.value)"
   ]
  },
  {
   "cell_type": "markdown",
   "metadata": {},
   "source": [
    "##### Linked List class"
   ]
  },
  {
   "cell_type": "code",
   "execution_count": 432,
   "metadata": {},
   "outputs": [],
   "source": [
    "class LinkedList:\n",
    "    \"\"\"Linked List Class\"\"\"\n",
    "    def __init__(self) -> None:\n",
    "        self.head = None\n",
    "        self.tail = None\n",
    "        \n",
    "    def __iter__(self):\n",
    "        \"\"\"Iterate over the linked list to print the values\"\"\"\n",
    "        current_node = self.head\n",
    "        while current_node:\n",
    "            yield current_node\n",
    "            current_node = current_node.next"
   ]
  },
  {
   "cell_type": "markdown",
   "metadata": {},
   "source": [
    "##### Queue class"
   ]
  },
  {
   "cell_type": "code",
   "execution_count": 433,
   "metadata": {},
   "outputs": [],
   "source": [
    "class Queue:\n",
    "    \"\"\"Queue class\"\"\"\n",
    "    def __init__(self) -> None:\n",
    "        \"\"\"Initializes the queue\"\"\"\n",
    "        self.linked_list = LinkedList()\n",
    "        \n",
    "    def __str__(self) -> str:\n",
    "        \"\"\"Print the queue\"\"\"\n",
    "        if self.linked_list.head is None:\n",
    "            return \"Queue is empty\"\n",
    "        else:\n",
    "            values = [str(x.value) for x in self.linked_list]\n",
    "            return \" \".join(values)\n",
    "    \n",
    "    def is_empty(self) -> bool:\n",
    "        \"\"\"Check if the queue is empty\"\"\"\n",
    "        return self.linked_list.head is None\n",
    "\n",
    "    def enqueue(self, value) -> None:\n",
    "        \"\"\"Add a value to the queue\"\"\"\n",
    "        # create a new node\n",
    "        new_node = Node(value=value)\n",
    "\n",
    "        # check if the queue is empty\n",
    "        if self.linked_list.head is None:\n",
    "            # then add it as the first node\n",
    "            self.linked_list.head = new_node\n",
    "            self.linked_list.tail = new_node\n",
    "            \n",
    "        # otherwise, add the node to the end of the queue\n",
    "        else:\n",
    "            self.linked_list.tail.next = new_node\n",
    "            self.linked_list.tail = new_node\n",
    "            \n",
    "    def dequeue(self):\n",
    "        \"\"\"Remove the first value from the queue\"\"\"\n",
    "        # check if the queue is empty\n",
    "        if self.is_empty():\n",
    "            return \"Queue is empty\"\n",
    "        # otherwise, remove the first value from the queue\n",
    "        else:\n",
    "            # for returning the value\n",
    "            temp_node = self.linked_list.head\n",
    "            \n",
    "            # check if there is only one node in the queue, then set head and tail to None\n",
    "            if self.linked_list.head == self.linked_list.tail:\n",
    "                self.linked_list.head = None\n",
    "                self.linked_list.tail = None\n",
    "                \n",
    "            # otherwise, set the head to the next node\n",
    "            else:\n",
    "                self.linked_list.head = self.linked_list.head.next\n",
    "            \n",
    "            return temp_node.value\n",
    "        \n",
    "    def peek(self):\n",
    "        \"\"\"Return the first value in the queue\"\"\" \n",
    "        if self.is_empty():\n",
    "            return \"Queue is empty\"\n",
    "        else:\n",
    "            return self.linked_list.head.value\n",
    "        \n",
    "    def delete(self):\n",
    "        \"\"\"Delete the entire queue\"\"\"\n",
    "        self.linked_list.head = None\n",
    "        self.linked_list.tail = None"
   ]
  },
  {
   "cell_type": "markdown",
   "metadata": {},
   "source": [
    "### Operations on Binary Search Tree"
   ]
  },
  {
   "cell_type": "markdown",
   "metadata": {},
   "source": [
    "#### Creation of Binary Search Tree\n",
    "\n",
    "Time complexity: O(1)\n",
    "\n",
    "Space complexity: O(1)"
   ]
  },
  {
   "cell_type": "code",
   "execution_count": 434,
   "metadata": {},
   "outputs": [],
   "source": [
    "new_bst = BSTNode(data=None) # creating a binary search tree without any data, we can insert it later"
   ]
  },
  {
   "cell_type": "markdown",
   "metadata": {},
   "source": [
    "#### Insert a node to Binary Search Tree\n",
    "\n",
    "Time complexity: O(logN)\n",
    "\n",
    "Space complexity: O(logN)"
   ]
  },
  {
   "cell_type": "code",
   "execution_count": 435,
   "metadata": {},
   "outputs": [],
   "source": [
    "def insert_node(root_node, node_value):\n",
    "    \"\"\"Recursive function to insert a node into the binary search tree\"\"\"\n",
    "    # check if the root node is empty, then update the root_node\n",
    "    if root_node.data == None:\n",
    "        root_node.data = node_value\n",
    "        \n",
    "    # check if the node value is less than or equal to root node, go to left child if so       \n",
    "    elif node_value <= root_node.data:\n",
    "        # check if the left child node is empty\n",
    "        if root_node.left_child == None:\n",
    "            root_node.left_child = BSTNode(data=node_value) # add the node to the left child\n",
    "        # otherwise call insert_node function recursively for left_child\n",
    "        else:\n",
    "            insert_node(root_node=root_node.left_child, node_value=node_value)  # time complexity: O(n/2)\n",
    "    \n",
    "    # check if the node values is greater than the root node, go to right child if so\n",
    "    else:\n",
    "        # check if the right child node is empty\n",
    "        if root_node.right_child == None:\n",
    "            root_node.right_child = BSTNode(data=node_value)   # add the node to the right child\n",
    "        # otherwise call insert_node function recursively for right child\n",
    "        else:\n",
    "            insert_node(root_node=root_node.right_child, node_value=node_value)  # time complexity: O(n/2)\n",
    "    \n",
    "    return \"Node has been successfully inserted\""
   ]
  },
  {
   "cell_type": "code",
   "execution_count": 436,
   "metadata": {},
   "outputs": [
    {
     "data": {
      "text/plain": [
       "'Node has been successfully inserted'"
      ]
     },
     "execution_count": 436,
     "metadata": {},
     "output_type": "execute_result"
    }
   ],
   "source": [
    "insert_node(root_node=new_bst, node_value=70)"
   ]
  },
  {
   "cell_type": "code",
   "execution_count": 437,
   "metadata": {},
   "outputs": [
    {
     "data": {
      "text/plain": [
       "'Node has been successfully inserted'"
      ]
     },
     "execution_count": 437,
     "metadata": {},
     "output_type": "execute_result"
    }
   ],
   "source": [
    "insert_node(root_node=new_bst, node_value=50)\n",
    "insert_node(root_node=new_bst, node_value=90)\n",
    "insert_node(root_node=new_bst, node_value=30)\n",
    "insert_node(root_node=new_bst, node_value=60)\n",
    "insert_node(root_node=new_bst, node_value=80)\n",
    "insert_node(root_node=new_bst, node_value=100)\n",
    "insert_node(root_node=new_bst, node_value=20)\n",
    "insert_node(root_node=new_bst, node_value=40)"
   ]
  },
  {
   "cell_type": "code",
   "execution_count": 438,
   "metadata": {},
   "outputs": [
    {
     "name": "stdout",
     "output_type": "stream",
     "text": [
      "70\n",
      "    50\n",
      "        30\n",
      "            20\n",
      "            40\n",
      "        60\n",
      "    90\n",
      "        80\n",
      "        100\n",
      "\n"
     ]
    }
   ],
   "source": [
    "print(new_bst)"
   ]
  },
  {
   "cell_type": "markdown",
   "metadata": {},
   "source": [
    "#### Traversal of Binary Search Tree\n",
    "\n",
    "* Depth first search\n",
    "  * Pre-order traversal: Root node -> Left subtree -> Right subtree\n",
    "  * In-order traversal: Left subtree -> Root node -> Right subtree\n",
    "  * Post order traversal: Left subtree -> Right subtree -> Root node\n",
    "\n",
    "\n",
    "* Breadth first search\n",
    "  * Level order traversal: Level 1(Root Node) -> Level 2 -> Level 3 -> ..."
   ]
  },
  {
   "cell_type": "markdown",
   "metadata": {},
   "source": [
    "##### Pre-order traversal\n",
    "\n",
    "Order: Root node -> Left subtree -> Right subtree\n",
    "\n",
    "Time complexity: O(n)\n",
    "\n",
    "Space complexity: O(1)"
   ]
  },
  {
   "cell_type": "code",
   "execution_count": 439,
   "metadata": {},
   "outputs": [],
   "source": [
    "def pre_order_traversal(root_node):\n",
    "    \"\"\"Recursive function to traverse through the binary tree in the order: Root node -> Left subtree -> Right subtree\"\"\"\n",
    "    # check root node is None, return if so\n",
    "    if root_node is None:   # if not root_node:\n",
    "        # if the current node has no child, left_child and right_child will be None\n",
    "        return\n",
    "    \n",
    "    print(root_node.data)\n",
    "    \n",
    "    # all the left node is traversed first\n",
    "    pre_order_traversal(root_node.left_child)    # time complexity: O(n/2)\n",
    "    # after traversing through all the left node, right node is called\n",
    "    pre_order_traversal(root_node.right_child)   # time complexity: O(n/2)"
   ]
  },
  {
   "cell_type": "code",
   "execution_count": 440,
   "metadata": {},
   "outputs": [
    {
     "name": "stdout",
     "output_type": "stream",
     "text": [
      "70\n",
      "50\n",
      "30\n",
      "20\n",
      "40\n",
      "60\n",
      "90\n",
      "80\n",
      "100\n"
     ]
    }
   ],
   "source": [
    "pre_order_traversal(root_node=new_bst)"
   ]
  },
  {
   "cell_type": "markdown",
   "metadata": {},
   "source": [
    "##### In-order Traversal of Binary Tree\n",
    "\n",
    "Order: Left subtree -> Root node -> Right subtree\n",
    "\n",
    "Time complexity: O(n)\n",
    "\n",
    "Space complexity: O(n)"
   ]
  },
  {
   "cell_type": "code",
   "execution_count": 441,
   "metadata": {},
   "outputs": [],
   "source": [
    "def in_order_traversal(root_node):\n",
    "    \"\"\"Recursive function to traverse the binary tree in the order: Left subtree -> Root node -> Right subtree\"\"\"\n",
    "    if not root_node:\n",
    "        # if the root node has no children, return (to avoid executing the rest of the code) \n",
    "        return\n",
    "    \n",
    "    in_order_traversal(root_node.left_child)    # time complexity: O(n/2)\n",
    "    \n",
    "    print(root_node.data)\n",
    "    \n",
    "    in_order_traversal(root_node.right_child)   # time complexity: O(n/2)"
   ]
  },
  {
   "cell_type": "code",
   "execution_count": 442,
   "metadata": {},
   "outputs": [
    {
     "name": "stdout",
     "output_type": "stream",
     "text": [
      "20\n",
      "30\n",
      "40\n",
      "50\n",
      "60\n",
      "70\n",
      "80\n",
      "90\n",
      "100\n"
     ]
    }
   ],
   "source": [
    "# time complexity: O(n)\n",
    "# space complexity: O(n)\n",
    "in_order_traversal(new_bst)"
   ]
  },
  {
   "cell_type": "markdown",
   "metadata": {},
   "source": [
    "##### Post-order Traversal of Binary Tree\n",
    "\n",
    "Order: Left subtree -> Right subtree -> Root node\n",
    "\n",
    "Time complexity: O(n)\n",
    "\n",
    "Space complexity: O(n)"
   ]
  },
  {
   "cell_type": "code",
   "execution_count": 443,
   "metadata": {},
   "outputs": [],
   "source": [
    "def post_order_traversal(root_node):\n",
    "    \"\"\"Recursive function to traverse the binary tree in the order: Left subtree -> Right subtree -> Root node\"\"\"\n",
    "    if root_node is None:\n",
    "        return\n",
    "    \n",
    "    post_order_traversal(root_node.left_child)\n",
    "    post_order_traversal(root_node.right_child)\n",
    "    print(root_node.data)"
   ]
  },
  {
   "cell_type": "code",
   "execution_count": 444,
   "metadata": {},
   "outputs": [
    {
     "name": "stdout",
     "output_type": "stream",
     "text": [
      "20\n",
      "40\n",
      "30\n",
      "60\n",
      "50\n",
      "80\n",
      "100\n",
      "90\n",
      "70\n"
     ]
    }
   ],
   "source": [
    "# time complexity: O(n)\n",
    "# space complexity: O(n)\n",
    "post_order_traversal(new_bst)"
   ]
  },
  {
   "cell_type": "markdown",
   "metadata": {},
   "source": [
    "##### Level Order Traversal of Binary Tree\n",
    "\n",
    "Time complexity: O(n)\n",
    "\n",
    "Space complexity: O(n)"
   ]
  },
  {
   "cell_type": "code",
   "execution_count": 445,
   "metadata": {},
   "outputs": [],
   "source": [
    "def level_order_traversal(root_node):\n",
    "    \"\"\"Recursive fun\"\"\"\n",
    "    if not root_node:\n",
    "        return\n",
    "    else:\n",
    "        # create queue\n",
    "        custom_queue = Queue()\n",
    "        \n",
    "        # add root node to the queue\n",
    "        custom_queue.enqueue(value=root_node)\n",
    "        \n",
    "        # looping through the custom_queue till its empty\n",
    "        while not custom_queue.is_empty():\n",
    "            # remove the root_node from the queue, which is the first node\n",
    "            root = custom_queue.dequeue()   # dequeue returns the first element in the queue\n",
    "            print(root.data)  # print the rootnode data\n",
    "            \n",
    "            # check if the root node has children and add it to the custom_queue\n",
    "            if root.left_child is not None:\n",
    "                custom_queue.enqueue(root.left_child)\n",
    "            if root.right_child is not None:\n",
    "                custom_queue.enqueue(root.right_child)    \n",
    "            "
   ]
  },
  {
   "cell_type": "code",
   "execution_count": 446,
   "metadata": {},
   "outputs": [
    {
     "name": "stdout",
     "output_type": "stream",
     "text": [
      "70\n",
      "50\n",
      "90\n",
      "30\n",
      "60\n",
      "80\n",
      "100\n",
      "20\n",
      "40\n"
     ]
    }
   ],
   "source": [
    "# time complexity: O(n)\n",
    "# space complexity: O(n), because of the use of queues\n",
    "level_order_traversal(new_bst)"
   ]
  },
  {
   "cell_type": "markdown",
   "metadata": {},
   "source": [
    "#### Search for a node in binary search tree\n",
    "\n",
    "Time complexity: O(logN)\n",
    "\n",
    "Space complexity: O(logN)"
   ]
  },
  {
   "cell_type": "code",
   "execution_count": 447,
   "metadata": {},
   "outputs": [],
   "source": [
    "def search_node(root_node, node_value):\n",
    "    \"\"\"Recursive function to search for a node in binary search tree\"\"\"\n",
    "    if not root_node:\n",
    "        return \"Tree is empty\"\n",
    "    else:\n",
    "        # check if the root node data is the node to be found\n",
    "        if root_node.data == node_value:\n",
    "            return \"The value is found\"\n",
    "            \n",
    "        # check if the node value is less than the root node value\n",
    "        elif node_value < root_node.data:\n",
    "            if root_node.left_child is None:    # check if root node has no left child\n",
    "                return \"The value is not found\"\n",
    "            else:\n",
    "                return search_node(root_node=root_node.left_child, node_value=node_value)\n",
    "        \n",
    "        # check if the node value is greater than the root node value        \n",
    "        elif node_value > root_node.data:\n",
    "            if root_node.right_child is None:   # check if root node has no right child\n",
    "                return \"The value is not found\"\n",
    "            else:\n",
    "                return search_node(root_node=root_node.right_child, node_value=node_value)\n",
    "        \n",
    "        else:\n",
    "            return \"The value is not found\""
   ]
  },
  {
   "cell_type": "code",
   "execution_count": 448,
   "metadata": {},
   "outputs": [
    {
     "name": "stdout",
     "output_type": "stream",
     "text": [
      "70\n",
      "    50\n",
      "        30\n",
      "            20\n",
      "            40\n",
      "        60\n",
      "    90\n",
      "        80\n",
      "        100\n",
      "\n"
     ]
    }
   ],
   "source": [
    "print(new_bst)"
   ]
  },
  {
   "cell_type": "code",
   "execution_count": 449,
   "metadata": {},
   "outputs": [
    {
     "data": {
      "text/plain": [
       "'The value is found'"
      ]
     },
     "execution_count": 449,
     "metadata": {},
     "output_type": "execute_result"
    }
   ],
   "source": [
    "search_node(root_node=new_bst, node_value=50)"
   ]
  },
  {
   "cell_type": "code",
   "execution_count": 450,
   "metadata": {},
   "outputs": [
    {
     "data": {
      "text/plain": [
       "'The value is not found'"
      ]
     },
     "execution_count": 450,
     "metadata": {},
     "output_type": "execute_result"
    }
   ],
   "source": [
    "search_node(root_node=new_bst, node_value=66)"
   ]
  },
  {
   "cell_type": "code",
   "execution_count": 451,
   "metadata": {},
   "outputs": [
    {
     "data": {
      "text/plain": [
       "'The value is found'"
      ]
     },
     "execution_count": 451,
     "metadata": {},
     "output_type": "execute_result"
    }
   ],
   "source": [
    "search_node(root_node=new_bst, node_value=20)"
   ]
  },
  {
   "cell_type": "markdown",
   "metadata": {},
   "source": [
    "#### Delete a node from binary search tree\n",
    "\n",
    "* Case 1: The node to be deleted is a leaf node (at the bottom)\n",
    "* Case 2: The node has one child (assigns the child of deleted node to the parent of deleted node)\n",
    "* Case 3: The node has two children (replaced by smallest successor from the right subtree)\n",
    "\n",
    "Time complexity: O(logN)\n",
    "\n",
    "Space complexity: O(logN)"
   ]
  },
  {
   "cell_type": "code",
   "execution_count": 452,
   "metadata": {},
   "outputs": [],
   "source": [
    "def min_value_node(bstNode):\n",
    "    \"\"\"Returns the minimum value in a binary search tree, this method is used for \n",
    "    case 3 to find the minimum value node in the right subtree\"\"\"\n",
    "    current_node = bstNode\n",
    "    # iterate through the left side of the tree, i.e, smaller side of the tree\n",
    "    while current_node.left_child is not None:\n",
    "        current_node = current_node.left_child\n",
    "        \n",
    "    return current_node"
   ]
  },
  {
   "cell_type": "code",
   "execution_count": 453,
   "metadata": {},
   "outputs": [],
   "source": [
    "def delete_node(root_node, node_value):\n",
    "    \"\"\"Recursive function to delete a node from the binary search tree\"\"\"\n",
    "    if root_node is None:\n",
    "        return root_node\n",
    "    \n",
    "    # check if the value to delete is less than the root node, then traverse through the left side, \n",
    "    # otherwise traverse the right side\n",
    "    if node_value < root_node.data:\n",
    "        root_node.left_child = delete_node(root_node=root_node.left_child, node_value=node_value)\n",
    "    elif node_value > root_node.data:\n",
    "        root_node.right_child = delete_node(root_node=root_node.right_child, node_value=node_value)\n",
    "    \n",
    "    # otherwise the nodevalue is equal to the root_node\n",
    "    # or reached the end of the tree and node_value is not found\n",
    "    else:\n",
    "        # case 1, 2: deleting a node with no children, single child (left or right child)\n",
    "        # check if the left_child is empty\n",
    "        if root_node.left_child is None:\n",
    "            temp = root_node.right_child\n",
    "            rootnode = None\n",
    "            return temp\n",
    "        # check if the right child is empty\n",
    "        if root_node.right_child is None:\n",
    "            temp = root_node.left_child\n",
    "            rootnode = None\n",
    "            return temp\n",
    "        \n",
    "        # case 3: deleting a node with two children\n",
    "        # here the node to be deleted is replaced with node with minimum value from the right subtree\n",
    "        \n",
    "        # get the minimum value node from the right subtree of the node to be deleted\n",
    "        temp = min_value_node(root_node.right_child)\n",
    "        root_node.data = temp.data  # update the current node with the minimum value node data\n",
    "        # delete the minimum value node from the right subtree\n",
    "        root_node.right_child = delete_node(root_node=root_node.right_child, node_value=temp.data)\n",
    "        \n",
    "    return root_node"
   ]
  },
  {
   "cell_type": "code",
   "execution_count": 454,
   "metadata": {},
   "outputs": [],
   "source": [
    "def delete_node_bst(root_node, node_value):\n",
    "    \"\"\"Deletes a node from the binary search tree\"\"\"\n",
    "    if root_node is None:\n",
    "        return \"Tree is empty\"\n",
    "    \n",
    "    # check if the value to delete is less than the root node, then traverse through the left side, \n",
    "    # otherwise traverse the right side\n",
    "    if root_node.data == node_value:\n",
    "        # case 1, 2: deleting a node with no children, single child (left or right child)\n",
    "        # check if the left_child is empty\n",
    "        if root_node.left_child is None:\n",
    "            temp = root_node.right_child\n",
    "            root_node.right_child = None\n",
    "            root_node = temp\n",
    "            return \"Successfully deleted the node\"\n",
    "        \n",
    "        # check if the right child is empty\n",
    "        if root_node.right_child is None:\n",
    "            temp = root_node.left_child\n",
    "            root_node.left_child = None\n",
    "            root_node = temp\n",
    "            return \"Successfully deleted the node\"\n",
    "\n",
    "        # case 3: deleting a node with two children\n",
    "        # here the node to be deleted is replaced with node with minimum value from the right subtree\n",
    "        \n",
    "        # get the minimum value node from the right subtree of the node to be deleted\n",
    "        temp = min_value_node(root_node.right_child)\n",
    "        root_node.data = temp.data  # update the current node with the minimum value node data\n",
    "        # delete the minimum value node from the right subtree\n",
    "        delete_node_bst(root_node=root_node.right_child, node_value=temp.data)\n",
    "        \n",
    "        return \"Successfully deleted the node\"\n",
    "    \n",
    "    # traversing to find the node_value\n",
    "    elif node_value < root_node.data:\n",
    "        return delete_node_bst(root_node=root_node.left_child, node_value=node_value)\n",
    "    elif node_value > root_node.data:\n",
    "        return delete_node_bst(root_node=root_node.right_child, node_value=node_value)\n",
    "    \n",
    "    else:\n",
    "        return \"Node deletion failed\""
   ]
  },
  {
   "cell_type": "code",
   "execution_count": 455,
   "metadata": {},
   "outputs": [
    {
     "name": "stdout",
     "output_type": "stream",
     "text": [
      "70\n",
      "    50\n",
      "        30\n",
      "            20\n",
      "            40\n",
      "        60\n",
      "    90\n",
      "        80\n",
      "        100\n",
      "\n"
     ]
    }
   ],
   "source": [
    "print(new_bst)"
   ]
  },
  {
   "cell_type": "code",
   "execution_count": 456,
   "metadata": {},
   "outputs": [
    {
     "data": {
      "text/plain": [
       "<__main__.BSTNode at 0x13722c201f0>"
      ]
     },
     "execution_count": 456,
     "metadata": {},
     "output_type": "execute_result"
    }
   ],
   "source": [
    "delete_node(root_node=new_bst, node_value=100)"
   ]
  },
  {
   "cell_type": "code",
   "execution_count": 457,
   "metadata": {},
   "outputs": [
    {
     "data": {
      "text/plain": [
       "<__main__.BSTNode at 0x13722c201f0>"
      ]
     },
     "execution_count": 457,
     "metadata": {},
     "output_type": "execute_result"
    }
   ],
   "source": [
    "delete_node(root_node=new_bst, node_value=50)"
   ]
  },
  {
   "cell_type": "code",
   "execution_count": 458,
   "metadata": {},
   "outputs": [
    {
     "name": "stdout",
     "output_type": "stream",
     "text": [
      "70\n",
      "    60\n",
      "        30\n",
      "            20\n",
      "            40\n",
      "    90\n",
      "        80\n",
      "\n"
     ]
    }
   ],
   "source": [
    "print(new_bst)"
   ]
  },
  {
   "cell_type": "code",
   "execution_count": 459,
   "metadata": {},
   "outputs": [
    {
     "data": {
      "text/plain": [
       "<__main__.BSTNode at 0x13722c201f0>"
      ]
     },
     "execution_count": 459,
     "metadata": {},
     "output_type": "execute_result"
    }
   ],
   "source": [
    "delete_node(root_node=new_bst, node_value=20)"
   ]
  },
  {
   "cell_type": "code",
   "execution_count": 460,
   "metadata": {},
   "outputs": [
    {
     "name": "stdout",
     "output_type": "stream",
     "text": [
      "70\n",
      "    60\n",
      "        30\n",
      "            40\n",
      "    90\n",
      "        80\n",
      "\n"
     ]
    }
   ],
   "source": [
    "print(new_bst)"
   ]
  },
  {
   "cell_type": "code",
   "execution_count": 461,
   "metadata": {},
   "outputs": [
    {
     "data": {
      "text/plain": [
       "<__main__.BSTNode at 0x13722c201f0>"
      ]
     },
     "execution_count": 461,
     "metadata": {},
     "output_type": "execute_result"
    }
   ],
   "source": [
    "delete_node(root_node=new_bst, node_value=66)"
   ]
  },
  {
   "cell_type": "markdown",
   "metadata": {},
   "source": [
    "#### Delete entire binary search tree\n",
    "\n",
    "Time complexity: O(1)\n",
    "\n",
    "Space complexity:O(1)"
   ]
  },
  {
   "cell_type": "code",
   "execution_count": 462,
   "metadata": {},
   "outputs": [],
   "source": [
    "def delete_bst(root_node):\n",
    "    \"\"\"Deletes entire binary search tree\"\"\"\n",
    "    root_node.data = None\n",
    "    root_node.left_child = None\n",
    "    root_node.right_child = None\n",
    "    return \"The Binary Search Tree has been successfully deleted\""
   ]
  },
  {
   "cell_type": "code",
   "execution_count": 463,
   "metadata": {},
   "outputs": [
    {
     "data": {
      "text/plain": [
       "'The Binary Search Tree has been successfully deleted'"
      ]
     },
     "execution_count": 463,
     "metadata": {},
     "output_type": "execute_result"
    }
   ],
   "source": [
    "delete_bst(root_node=new_bst)"
   ]
  },
  {
   "cell_type": "code",
   "execution_count": 464,
   "metadata": {},
   "outputs": [
    {
     "name": "stdout",
     "output_type": "stream",
     "text": [
      "None\n",
      "\n"
     ]
    }
   ],
   "source": [
    "print(new_bst)"
   ]
  }
 ],
 "metadata": {
  "kernelspec": {
   "display_name": "Python 3.10.1 ('venv': venv)",
   "language": "python",
   "name": "python3"
  },
  "language_info": {
   "codemirror_mode": {
    "name": "ipython",
    "version": 3
   },
   "file_extension": ".py",
   "mimetype": "text/x-python",
   "name": "python",
   "nbconvert_exporter": "python",
   "pygments_lexer": "ipython3",
   "version": "3.10.1"
  },
  "orig_nbformat": 4,
  "vscode": {
   "interpreter": {
    "hash": "1e9e906ed1bcd16395bf324e1dc9b0d6266e30bb5a7212e78bbc15ab48b3a7f0"
   }
  }
 },
 "nbformat": 4,
 "nbformat_minor": 2
}
