{
 "cells": [
  {
   "cell_type": "markdown",
   "metadata": {},
   "source": [
    "# Checking Email Inbox\n",
    "\n",
    "pip install imapclient\n",
    "\n",
    "pip install pyzmail36"
   ]
  },
  {
   "cell_type": "code",
   "execution_count": 2,
   "metadata": {},
   "outputs": [],
   "source": [
    "import imapclient, os"
   ]
  },
  {
   "cell_type": "markdown",
   "metadata": {},
   "source": [
    "Start connection"
   ]
  },
  {
   "cell_type": "code",
   "execution_count": 3,
   "metadata": {},
   "outputs": [],
   "source": [
    "connection = imapclient.IMAPClient(host=\"imap.gmail.com\", ssl=True)"
   ]
  },
  {
   "cell_type": "markdown",
   "metadata": {},
   "source": [
    "Login"
   ]
  },
  {
   "cell_type": "code",
   "execution_count": 4,
   "metadata": {},
   "outputs": [
    {
     "data": {
      "text/plain": [
       "b'radioactivelivingcells@gmail.com authenticated (Success)'"
      ]
     },
     "execution_count": 4,
     "metadata": {},
     "output_type": "execute_result"
    }
   ],
   "source": [
    "connection.login(os.environ['EMAIL'], os.environ['EMAIL_PASSWORD'])"
   ]
  },
  {
   "cell_type": "markdown",
   "metadata": {},
   "source": [
    "Select folder"
   ]
  },
  {
   "cell_type": "code",
   "execution_count": 11,
   "metadata": {},
   "outputs": [
    {
     "data": {
      "text/plain": [
       "[((b'\\\\HasNoChildren',), b'/', 'INBOX'),\n",
       " ((b'\\\\HasChildren', b'\\\\Noselect'), b'/', '[Gmail]'),\n",
       " ((b'\\\\All', b'\\\\HasNoChildren'), b'/', '[Gmail]/All Mail'),\n",
       " ((b'\\\\Drafts', b'\\\\HasNoChildren'), b'/', '[Gmail]/Drafts'),\n",
       " ((b'\\\\HasNoChildren', b'\\\\Important'), b'/', '[Gmail]/Important'),\n",
       " ((b'\\\\HasNoChildren', b'\\\\Sent'), b'/', '[Gmail]/Sent Mail'),\n",
       " ((b'\\\\HasNoChildren', b'\\\\Junk'), b'/', '[Gmail]/Spam'),\n",
       " ((b'\\\\Flagged', b'\\\\HasNoChildren'), b'/', '[Gmail]/Starred'),\n",
       " ((b'\\\\HasNoChildren', b'\\\\Trash'), b'/', '[Gmail]/Trash')]"
      ]
     },
     "execution_count": 11,
     "metadata": {},
     "output_type": "execute_result"
    }
   ],
   "source": [
    "# list all the folders\n",
    "connection.list_folders()"
   ]
  },
  {
   "cell_type": "code",
   "execution_count": 5,
   "metadata": {},
   "outputs": [
    {
     "data": {
      "text/plain": [
       "{b'PERMANENTFLAGS': (),\n",
       " b'FLAGS': (b'\\\\Answered',\n",
       "  b'\\\\Flagged',\n",
       "  b'\\\\Draft',\n",
       "  b'\\\\Deleted',\n",
       "  b'\\\\Seen',\n",
       "  b'$NotPhishing',\n",
       "  b'$Phishing'),\n",
       " b'UIDVALIDITY': 1,\n",
       " b'EXISTS': 6,\n",
       " b'RECENT': 0,\n",
       " b'UIDNEXT': 28,\n",
       " b'HIGHESTMODSEQ': 4490,\n",
       " b'READ-ONLY': [b'']}"
      ]
     },
     "execution_count": 5,
     "metadata": {},
     "output_type": "execute_result"
    }
   ],
   "source": [
    "connection.select_folder(\"INBOX\", readonly=True)"
   ]
  },
  {
   "cell_type": "markdown",
   "metadata": {},
   "source": [
    "Select emails"
   ]
  },
  {
   "cell_type": "code",
   "execution_count": 8,
   "metadata": {},
   "outputs": [
    {
     "data": {
      "text/plain": [
       "[21, 23, 24, 25, 26, 27]"
      ]
     },
     "execution_count": 8,
     "metadata": {},
     "output_type": "execute_result"
    }
   ],
   "source": [
    "# unique ids of all messages in the inbox\n",
    "UIDs = connection.search([\"ALL\"])\n",
    "UIDs"
   ]
  },
  {
   "cell_type": "markdown",
   "metadata": {},
   "source": [
    "Get an email"
   ]
  },
  {
   "cell_type": "code",
   "execution_count": 10,
   "metadata": {},
   "outputs": [
    {
     "data": {
      "text/plain": [
       "defaultdict(dict,\n",
       "            {21: {b'SEQ': 1,\n",
       "              b'FLAGS': (b'\\\\Seen',),\n",
       "              b'BODY[]': b'Bcc: radioactivelivingcells@gmail.com\\r\\nReturn-Path: <radioactivelivingcells@gmail.com>\\r\\nReceived: from [192.168.135.178] ([117.230.144.75])\\r\\n        by smtp.gmail.com with ESMTPSA id r4-20020a638f44000000b0038105776895sm8328373pgn.76.2022.03.26.08.37.14\\r\\n        for <radioactivelivingcells@gmail.com>\\r\\n        (version=TLS1_3 cipher=TLS_AES_256_GCM_SHA384 bits=256/256);\\r\\n        Sat, 26 Mar 2022 08:37:15 -0700 (PDT)\\r\\nMessage-ID: <623f332b.1c69fb81.40629.7469@mx.google.com>\\r\\nDate: Sat, 26 Mar 2022 08:37:15 -0700 (PDT)\\r\\nFrom: radioactivelivingcells@gmail.com\\r\\nSubject: Amazon Price Alert\\r\\n\\r\\nPrice: \\xe2\\x82\\xb9449.00\\r\\nLink:https://www.amazon.in/Store2508%C2%AE-Quality-FIBREGLASS-Mosquito-Installation/dp/B07GZTJK2M\\r\\n'}})"
      ]
     },
     "execution_count": 10,
     "metadata": {},
     "output_type": "execute_result"
    }
   ],
   "source": [
    "raw_message = connection.fetch([21], [\"BODY[]\", \"FLAGS\"])\n",
    "raw_message"
   ]
  },
  {
   "cell_type": "markdown",
   "metadata": {},
   "source": [
    "Delete an email"
   ]
  },
  {
   "cell_type": "code",
   "execution_count": 13,
   "metadata": {},
   "outputs": [
    {
     "data": {
      "text/plain": [
       "{b'PERMANENTFLAGS': (b'\\\\Answered',\n",
       "  b'\\\\Flagged',\n",
       "  b'\\\\Draft',\n",
       "  b'\\\\Deleted',\n",
       "  b'\\\\Seen',\n",
       "  b'$NotPhishing',\n",
       "  b'$Phishing',\n",
       "  b'\\\\*'),\n",
       " b'FLAGS': (b'\\\\Answered',\n",
       "  b'\\\\Flagged',\n",
       "  b'\\\\Draft',\n",
       "  b'\\\\Deleted',\n",
       "  b'\\\\Seen',\n",
       "  b'$NotPhishing',\n",
       "  b'$Phishing'),\n",
       " b'UIDVALIDITY': 1,\n",
       " b'EXISTS': 6,\n",
       " b'RECENT': 0,\n",
       " b'UIDNEXT': 28,\n",
       " b'HIGHESTMODSEQ': 4490,\n",
       " b'READ-WRITE': True}"
      ]
     },
     "execution_count": 13,
     "metadata": {},
     "output_type": "execute_result"
    }
   ],
   "source": [
    "# change readonly to false\n",
    "connection.select_folder(\"INBOX\", readonly=False)"
   ]
  },
  {
   "cell_type": "code",
   "execution_count": null,
   "metadata": {},
   "outputs": [],
   "source": [
    "connection.delete_messages([21])"
   ]
  },
  {
   "cell_type": "markdown",
   "metadata": {},
   "source": [
    "Logout"
   ]
  },
  {
   "cell_type": "code",
   "execution_count": 14,
   "metadata": {},
   "outputs": [
    {
     "data": {
      "text/plain": [
       "b'LOGOUT Requested'"
      ]
     },
     "execution_count": 14,
     "metadata": {},
     "output_type": "execute_result"
    }
   ],
   "source": [
    "connection.logout()"
   ]
  }
 ],
 "metadata": {
  "interpreter": {
   "hash": "1e9e906ed1bcd16395bf324e1dc9b0d6266e30bb5a7212e78bbc15ab48b3a7f0"
  },
  "kernelspec": {
   "display_name": "Python 3.10.1 ('venv': venv)",
   "language": "python",
   "name": "python3"
  },
  "language_info": {
   "codemirror_mode": {
    "name": "ipython",
    "version": 3
   },
   "file_extension": ".py",
   "mimetype": "text/x-python",
   "name": "python",
   "nbconvert_exporter": "python",
   "pygments_lexer": "ipython3",
   "version": "3.10.1"
  },
  "orig_nbformat": 4
 },
 "nbformat": 4,
 "nbformat_minor": 2
}
