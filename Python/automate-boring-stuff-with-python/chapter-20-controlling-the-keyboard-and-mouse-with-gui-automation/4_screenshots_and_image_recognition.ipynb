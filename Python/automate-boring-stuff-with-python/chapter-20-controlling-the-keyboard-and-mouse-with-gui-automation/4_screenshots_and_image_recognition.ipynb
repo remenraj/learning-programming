{
 "cells": [
  {
   "cell_type": "markdown",
   "metadata": {},
   "source": [
    "**Screenshots and image recognition**\n",
    "\n",
    "A screenshot is an image of the screen's content.\n",
    "\n",
    "The pyautogui.screenshot() will return an Image object of the screen, or you can pass it a filename to save it to a file\n",
    "locateOnScreen() is passed a sample image file, and returns the coordinates of where it is on the screen.\n",
    "\n",
    "locateCenterOnScreen() will return an (x, y) tuple of where the image is on the screen."
   ]
  },
  {
   "cell_type": "code",
   "execution_count": 1,
   "metadata": {},
   "outputs": [],
   "source": [
    "import pyautogui"
   ]
  },
  {
   "cell_type": "code",
   "execution_count": null,
   "metadata": {},
   "outputs": [],
   "source": [
    "# take screenshot\n",
    "pyautogui.screenshot(imageFilename=\"screenshot.png\")"
   ]
  },
  {
   "cell_type": "code",
   "execution_count": null,
   "metadata": {},
   "outputs": [],
   "source": [
    "# locate an image on the screen\n",
    "pyautogui.locateOnScreen(\"something_to_find.png\")\n",
    "# returns the position, width and height of the image"
   ]
  },
  {
   "cell_type": "code",
   "execution_count": null,
   "metadata": {},
   "outputs": [],
   "source": [
    "# get the location of the center of the image\n",
    "pyautogui.locateCenterOnScreen(\"something_to_find.png\")"
   ]
  },
  {
   "cell_type": "code",
   "execution_count": null,
   "metadata": {},
   "outputs": [],
   "source": [
    "# move the mouse to that location and click\n",
    "pyautogui.moveTo(pyautogui.locateCenterOnScreen(\"something_to_find.png\"))\n",
    "pyautogui.click()\n",
    "# or \n",
    "pyautogui.click(pyautogui.locateCenterOnScreen(\"something_to_find.png\"))"
   ]
  },
  {
   "cell_type": "code",
   "execution_count": null,
   "metadata": {},
   "outputs": [],
   "source": []
  }
 ],
 "metadata": {
  "interpreter": {
   "hash": "1e9e906ed1bcd16395bf324e1dc9b0d6266e30bb5a7212e78bbc15ab48b3a7f0"
  },
  "kernelspec": {
   "display_name": "Python 3.10.1 ('venv': venv)",
   "language": "python",
   "name": "python3"
  },
  "language_info": {
   "codemirror_mode": {
    "name": "ipython",
    "version": 3
   },
   "file_extension": ".py",
   "mimetype": "text/x-python",
   "name": "python",
   "nbconvert_exporter": "python",
   "pygments_lexer": "ipython3",
   "version": "3.10.1"
  },
  "orig_nbformat": 4
 },
 "nbformat": 4,
 "nbformat_minor": 2
}
