{
 "cells": [
  {
   "cell_type": "markdown",
   "metadata": {},
   "source": [
    "**Controlling the keyboard**\n",
    "\n",
    "PyAutoGUI's virtual key presses will go the window the currently has focus.\n",
    "\n",
    "typewrite() can be passed a string of characters to type. It also has an \"interval\" keyword argument.\n",
    "\n",
    "Passing a list of strings to typewrite() lets you use hard-to-type keyboard keys, like ‘shift' or ‘f1'.\n",
    "\n",
    "These keyboard key strings are in the pyautogui.KEYBOARD_KEYS list.\n",
    "\n",
    "pyautogui.press() will press a single key.\n",
    "\n",
    "pyautogui.hotkey() can be used for keyboard shortcuts, like Ctrl-O."
   ]
  },
  {
   "cell_type": "code",
   "execution_count": 5,
   "metadata": {},
   "outputs": [],
   "source": [
    "import pyautogui, time"
   ]
  },
  {
   "cell_type": "code",
   "execution_count": 7,
   "metadata": {},
   "outputs": [],
   "source": [
    "# type something\n",
    "time.sleep(1)\n",
    "pyautogui.click()\n",
    "pyautogui.typewrite(\"Hello world!\")\n",
    "pyautogui.typewrite(message=\"Hello world!\", interval=0.25)"
   ]
  },
  {
   "cell_type": "code",
   "execution_count": null,
   "metadata": {},
   "outputs": [],
   "source": [
    "# list of all key names\n",
    "pyautogui.KEYBOARD_KEYS"
   ]
  },
  {
   "cell_type": "code",
   "execution_count": 11,
   "metadata": {},
   "outputs": [],
   "source": [
    "# press a key\n",
    "pyautogui.press(\"f1\")"
   ]
  },
  {
   "cell_type": "code",
   "execution_count": 10,
   "metadata": {},
   "outputs": [],
   "source": [
    "# switch to previous window\n",
    "pyautogui.hotkey(\"alt\", \"tab\")"
   ]
  }
 ],
 "metadata": {
  "interpreter": {
   "hash": "1e9e906ed1bcd16395bf324e1dc9b0d6266e30bb5a7212e78bbc15ab48b3a7f0"
  },
  "kernelspec": {
   "display_name": "Python 3.10.1 ('venv': venv)",
   "language": "python",
   "name": "python3"
  },
  "language_info": {
   "codemirror_mode": {
    "name": "ipython",
    "version": 3
   },
   "file_extension": ".py",
   "mimetype": "text/x-python",
   "name": "python",
   "nbconvert_exporter": "python",
   "pygments_lexer": "ipython3",
   "version": "3.10.1"
  },
  "orig_nbformat": 4
 },
 "nbformat": 4,
 "nbformat_minor": 2
}
