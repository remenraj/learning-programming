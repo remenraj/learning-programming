{
 "cells": [
  {
   "cell_type": "markdown",
   "metadata": {},
   "source": [
    "**Controlling the mouse**\n",
    "\n",
    "install: pip install pyautogui\n",
    "\n",
    "Controlling the mouse and keyboard is called GUI automation.\n",
    "\n",
    "The PyAutoGUI third-party module has many functions to control the mouse and keyboard.\n",
    "\n",
    "pyautogui.size() returns the screen resolution, pyautogui.position() returns the mouse position. These are returned as tuples of two integers.\n",
    "\n",
    "pyautogui.moveTo(x, y) moves the mouse to an x, y coordinate on the screen.\n",
    "\n",
    "The mouse move is instantaneous, unless you pass an int for the \"duration\" keyword argument.\n",
    "\n",
    "pyautogui.moveRel() moves the mouse relative to its current position.\n",
    "\n",
    "PyAutoGUI's click(), doubleClick(), rightClick(), and middleClick() click the mouse buttons.\n",
    "\n",
    "dragTo() and dragRel() will move the mouse while holding down a mouse button.\n",
    "\n",
    "If your program gets out of control, quickly move the mouse cursor to the top-left corner to stop it.\n",
    "\n",
    "There's more documentation at pyautogui.readthedocs.org."
   ]
  },
  {
   "cell_type": "code",
   "execution_count": 1,
   "metadata": {},
   "outputs": [],
   "source": [
    "import pyautogui\n"
   ]
  },
  {
   "cell_type": "code",
   "execution_count": 4,
   "metadata": {},
   "outputs": [
    {
     "data": {
      "text/plain": [
       "Size(width=1366, height=768)"
      ]
     },
     "execution_count": 4,
     "metadata": {},
     "output_type": "execute_result"
    }
   ],
   "source": [
    "# screen resolution\n",
    "width, height = pyautogui.size()\n",
    "pyautogui.size()"
   ]
  },
  {
   "cell_type": "code",
   "execution_count": 27,
   "metadata": {},
   "outputs": [
    {
     "data": {
      "text/plain": [
       "Point(x=388, y=0)"
      ]
     },
     "execution_count": 27,
     "metadata": {},
     "output_type": "execute_result"
    }
   ],
   "source": [
    "# current position of mouse pointer\n",
    "pyautogui.position()"
   ]
  },
  {
   "cell_type": "code",
   "execution_count": null,
   "metadata": {},
   "outputs": [],
   "source": [
    "# to get the location of the mouse pointer in realtime\n",
    "# it also shows the RGB value of the pixel under the mouse pointer\n",
    "pyautogui.displayMousePosition()\n",
    "# run this command in the terminal to see the mouse pointer in realtime"
   ]
  },
  {
   "cell_type": "code",
   "execution_count": 11,
   "metadata": {},
   "outputs": [],
   "source": [
    "# controlling the mouse\n",
    "# by absolute position\n",
    "pyautogui.moveTo(x=456, y=567)\n",
    "pyautogui.moveTo(x=100, y=100, duration=2)\n",
    "pyautogui.moveTo(x=400, y=300)\n"
   ]
  },
  {
   "cell_type": "code",
   "execution_count": 20,
   "metadata": {},
   "outputs": [],
   "source": [
    "# by relative position\n",
    "pyautogui.moveRel(xOffset=100, yOffset=100)\n",
    "# y coordinates decrease going up\n",
    "pyautogui.moveRel(xOffset=0, yOffset=-100, duration=1)"
   ]
  },
  {
   "cell_type": "code",
   "execution_count": 28,
   "metadata": {},
   "outputs": [],
   "source": [
    "# click on help button\n",
    "pyautogui.click(x=367, y=0)\n",
    "# pyautogui.click()\n",
    "# pyautogui.doubleClick()\n",
    "# pyautogui.rightClick()\n",
    "# pyautogui.middleClick()\n"
   ]
  },
  {
   "cell_type": "code",
   "execution_count": null,
   "metadata": {},
   "outputs": [],
   "source": [
    "# failsafe to shut down the program\n",
    "# move the mouse pointer to the top left (0, 0) of the screen\n",
    "# It will raise FailSafeException exception: "
   ]
  }
 ],
 "metadata": {
  "interpreter": {
   "hash": "1e9e906ed1bcd16395bf324e1dc9b0d6266e30bb5a7212e78bbc15ab48b3a7f0"
  },
  "kernelspec": {
   "display_name": "Python 3.10.1 ('venv': venv)",
   "language": "python",
   "name": "python3"
  },
  "language_info": {
   "codemirror_mode": {
    "name": "ipython",
    "version": 3
   },
   "file_extension": ".py",
   "mimetype": "text/x-python",
   "name": "python",
   "nbconvert_exporter": "python",
   "pygments_lexer": "ipython3",
   "version": "3.10.1"
  },
  "orig_nbformat": 4
 },
 "nbformat": 4,
 "nbformat_minor": 2
}
